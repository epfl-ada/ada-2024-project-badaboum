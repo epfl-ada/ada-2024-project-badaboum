{
 "cells": [
  {
   "cell_type": "code",
   "execution_count": 41,
   "metadata": {},
   "outputs": [],
   "source": [
    "import src.models.question1 as q1"
   ]
  },
  {
   "cell_type": "code",
   "execution_count": 54,
   "metadata": {},
   "outputs": [],
   "source": [
    "# Load the winners and nominees of the Oscars\n",
    "oscar_movies_df = q1.load_oscar_movies()"
   ]
  },
  {
   "cell_type": "markdown",
   "metadata": {},
   "source": [
    "### Causal effect of winning an oscar\n",
    "\n",
    "We will now study the causal effect of winning an oscar on the average rating.  \n",
    "To do so, we consider the control group to be the oscar nominees.  \n",
    "This choice is made so that we compare movies of similar level of qualities (we do not compare a very well crafted movie with a small quick win production).  \n",
    "\n",
    "To study the causal, we need to construct a graph of pairs between control and treated.  \n",
    "We will create pairs based on the released year of the movie (such that movies in a pair are done in the same year).  \n",
    "We do so because the technical abilities to produce movies has greatly change over time and could introduce a hidden variable bias."
   ]
  },
  {
   "cell_type": "code",
   "execution_count": 55,
   "metadata": {},
   "outputs": [
    {
     "name": "stdout",
     "output_type": "stream",
     "text": [
      "We have 53 matches\n",
      "{(90, 91), (202, 204), (3, 4), (18, 20), (84, 81), (147, 149), (14, 16), (40, 44), (8, 9), (178, 176), (97, 96), (152, 151), (74, 73), (104, 105), (225, 224), (75, 78), (115, 114), (230, 232), (109, 107), (214, 211), (174, 172), (283, 268), (166, 168), (185, 187), (160, 161), (254, 253), (51, 52), (133, 134), (183, 182), (282, 269), (112, 111), (144, 146), (129, 127), (245, 265), (121, 123), (30, 32), (140, 142), (88, 86), (136, 135), (99, 101), (35, 37), (154, 156), (26, 28), (243, 249), (191, 193), (242, 238), (196, 195), (279, 275), (2, 12), (45, 47), (68, 67), (63, 62), (119, 118)}\n"
     ]
    }
   ],
   "source": [
    "import networkx as nx\n",
    "import pandas as pd\n",
    "\n",
    "control_df: pd.DataFrame = oscar_movies_df[oscar_movies_df['winner'] == 0]\n",
    "treated_df: pd.DataFrame = oscar_movies_df[oscar_movies_df['winner'] == 1]\n",
    "\n",
    "G = nx.Graph()\n",
    "\n",
    "for control_id, control_row in control_df.iterrows():\n",
    "    for treated_id, treated_row in treated_df.iterrows():\n",
    "        if control_row['release'] == treated_row['release']:\n",
    "            diff_nb_votes = abs(control_row['numVotes'] - treated_row['numVotes'])\n",
    "\n",
    "            G.add_weighted_edges_from([(control_id, treated_id, diff_nb_votes)])\n",
    "\n",
    "matching = nx.min_weight_matching(G)\n",
    "\n",
    "print(f\"We have {len(matching)} matches\")\n",
    "print(matching)"
   ]
  },
  {
   "cell_type": "markdown",
   "metadata": {},
   "source": [
    "We may now cmopute the average treatement effect to estimate the effect of winning an oscar on the average rating."
   ]
  },
  {
   "cell_type": "code",
   "execution_count": 57,
   "metadata": {},
   "outputs": [
    {
     "name": "stdout",
     "output_type": "stream",
     "text": [
      "The Average Treatment Effect is 0.22 rating units\n"
     ]
    }
   ],
   "source": [
    "def is_treated(node_id):\n",
    "    return node_id in treated_df.index\n",
    "\n",
    "ATE = 0\n",
    "\n",
    "for pair in matching:\n",
    "    control_id = pair[0] if is_treated(pair[1]) else pair[1]\n",
    "    treated_id = pair[1] if is_treated(pair[1]) else pair[0]\n",
    "\n",
    "    control_row = oscar_movies_df.loc[control_id]\n",
    "    treated_row = oscar_movies_df.loc[treated_id]\n",
    "   \n",
    "    ATE += treated_row['averageRating'] - control_row['averageRating']\n",
    "\n",
    "ATE /= len(matching)\n",
    "\n",
    "print(f\"The Average Treatment Effect is {ATE:.2f} rating units\")"
   ]
  },
  {
   "cell_type": "code",
   "execution_count": null,
   "metadata": {},
   "outputs": [],
   "source": []
  }
 ],
 "metadata": {
  "kernelspec": {
   "display_name": "ada",
   "language": "python",
   "name": "python3"
  },
  "language_info": {
   "codemirror_mode": {
    "name": "ipython",
    "version": 3
   },
   "file_extension": ".py",
   "mimetype": "text/x-python",
   "name": "python",
   "nbconvert_exporter": "python",
   "pygments_lexer": "ipython3",
   "version": "3.11.9"
  }
 },
 "nbformat": 4,
 "nbformat_minor": 2
}
