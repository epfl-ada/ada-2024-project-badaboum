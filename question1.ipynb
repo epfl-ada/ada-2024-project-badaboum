{
 "cells": [
  {
   "cell_type": "code",
   "execution_count": 41,
   "metadata": {},
   "outputs": [],
   "source": [
    "import src.models.question1 as q1"
   ]
  },
  {
   "cell_type": "code",
   "execution_count": 42,
   "metadata": {},
   "outputs": [],
   "source": [
    "# Load the winners and nominees of the Oscars\n",
    "winners, nominees = q1.load_oscar_winners_nominees()"
   ]
  },
  {
   "cell_type": "markdown",
   "metadata": {},
   "source": [
    "### Causal effect of winning an oscar\n",
    "\n",
    "We will now study the causal effect of winning an oscar on the average rating.  \n",
    "To do so, we consider the control group to be the oscar nominees.  \n",
    "This choice is made so that we compare movies of similar level of qualities (we do not compare a very well crafted movie with a small quick win production).  \n",
    "\n",
    "To study the causal, we need to construct a graph of pairs between control and treated.  \n",
    "We will create pairs based on the released year of the movie (such that movies in a pair are done in the same year).  \n",
    "We do so because the technical abilities to produce movies has greatly change over time and could introduce a hidden variable bias."
   ]
  },
  {
   "cell_type": "code",
   "execution_count": 51,
   "metadata": {},
   "outputs": [
    {
     "name": "stdout",
     "output_type": "stream",
     "text": [
      "[(0, 0, {}), (0, 1, {}), (0, 2, {}), (0, 3, {}), (0, 4, {}), (0, 5, {}), (0, 6, {}), (0, 7, {}), (0, 8, {}), (0, 9, {}), (1, 1, {}), (1, 2, {}), (1, 3, {}), (1, 4, {}), (1, 5, {}), (1, 6, {}), (1, 7, {}), (1, 8, {}), (1, 9, {}), (2, 2, {}), (2, 3, {}), (2, 4, {}), (2, 5, {}), (2, 6, {}), (2, 7, {}), (2, 8, {}), (2, 9, {}), (3, 3, {}), (3, 4, {}), (3, 5, {}), (3, 6, {}), (3, 7, {}), (3, 8, {}), (3, 9, {}), (4, 4, {}), (4, 5, {}), (4, 6, {}), (4, 7, {}), (4, 8, {}), (4, 9, {})]\n"
     ]
    }
   ],
   "source": [
    "import networkx as nx\n",
    "\n",
    "G = nx.Graph()\n",
    "\n",
    "for i in range(10):\n",
    "    for j in range(5):\n",
    "        G.add_edge(i, j)\n",
    "\n",
    "print(G.edges(data=True))\n",
    "        "
   ]
  },
  {
   "cell_type": "code",
   "execution_count": 43,
   "metadata": {},
   "outputs": [
    {
     "name": "stdout",
     "output_type": "stream",
     "text": [
      "231\n",
      "53\n",
      "[(0, 1, {'weight': 156752}), (0, 8, {'weight': 435759}), (0, 9, {'weight': 65156}), (0, 10, {'weight': 65532}), (1, 1, {'weight': 21222}), (1, 2, {'weight': 8541}), (1, 3, {'weight': 11984}), (2, 4, {'weight': 31365}), (2, 5, {'weight': 31416}), (2, 6, {'weight': 11668}), (2, 7, {'weight': 12345}), (3, 11, {'weight': 3105}), (3, 12, {'weight': 8135}), (3, 13, {'weight': 37393}), (4, 14, {'weight': 13303}), (4, 15, {'weight': 10154}), (4, 16, {'weight': 115644}), (5, 21, {'weight': 128422}), (5, 22, {'weight': 128328}), (5, 23, {'weight': 133945}), (6, 24, {'weight': 34403}), (6, 25, {'weight': 12122}), (6, 26, {'weight': 20288}), (6, 27, {'weight': 78284}), (7, 28, {'weight': 95528}), (7, 29, {'weight': 5866}), (7, 30, {'weight': 9593}), (7, 31, {'weight': 26879}), (8, 32, {'weight': 38566}), (8, 33, {'weight': 39810}), (8, 34, {'weight': 98159}), (8, 35, {'weight': 6797}), (9, 36, {'weight': 137331}), (9, 37, {'weight': 161130}), (9, 38, {'weight': 140451}), (9, 39, {'weight': 164214}), (10, 40, {'weight': 22301}), (10, 41, {'weight': 9174}), (10, 42, {'weight': 17684}), (10, 43, {'weight': 23088}), (11, 50, {'weight': 11953}), (11, 51, {'weight': 6609}), (12, 55, {'weight': 188060}), (12, 56, {'weight': 199476}), (12, 57, {'weight': 196348}), (13, 58, {'weight': 120030}), (13, 59, {'weight': 66210}), (13, 60, {'weight': 34957}), (14, 61, {'weight': 260799}), (14, 62, {'weight': 302935}), (14, 63, {'weight': 16517}), (15, 64, {'weight': 424128}), (15, 66, {'weight': 78705}), (15, 67, {'weight': 87022}), (15, 68, {'weight': 85893}), (16, 69, {'weight': 259035}), (16, 70, {'weight': 183856}), (16, 71, {'weight': 259974}), (16, 72, {'weight': 263337}), (21, 85, {'weight': 86897}), (21, 86, {'weight': 67756}), (21, 87, {'weight': 71468}), (22, 88, {'weight': 756298}), (22, 89, {'weight': 90189}), (23, 90, {'weight': 2000641}), (23, 91, {'weight': 1939548}), (23, 92, {'weight': 2056372}), (24, 93, {'weight': 183773}), (24, 94, {'weight': 182141}), (24, 95, {'weight': 280637}), (25, 96, {'weight': 1035658}), (25, 97, {'weight': 1267494}), (25, 98, {'weight': 1374656}), (25, 99, {'weight': 1343372}), (26, 100, {'weight': 903989}), (26, 101, {'weight': 813867}), (26, 102, {'weight': 1062130}), (27, 103, {'weight': 514277}), (27, 104, {'weight': 637140}), (27, 105, {'weight': 468770}), (27, 106, {'weight': 304867}), (28, 107, {'weight': 264612}), (28, 108, {'weight': 270481}), (28, 109, {'weight': 275839}), (29, 110, {'weight': 353009}), (29, 111, {'weight': 344099}), (29, 112, {'weight': 278552}), (29, 113, {'weight': 361891}), (30, 114, {'weight': 121151}), (30, 115, {'weight': 131590}), (31, 116, {'weight': 37259}), (31, 117, {'weight': 205137}), (31, 118, {'weight': 328499}), (32, 119, {'weight': 42372}), (33, 120, {'weight': 203535}), (33, 121, {'weight': 217860}), (33, 122, {'weight': 125283}), (33, 123, {'weight': 194731}), (34, 124, {'weight': 23912}), (34, 125, {'weight': 61052}), (34, 126, {'weight': 533}), (35, 131, {'weight': 11188}), (35, 132, {'weight': 70111}), (35, 133, {'weight': 60891}), (35, 134, {'weight': 19119}), (36, 135, {'weight': 427791}), (36, 136, {'weight': 369011}), (36, 137, {'weight': 379827}), (37, 138, {'weight': 78628}), (37, 139, {'weight': 11216}), (37, 140, {'weight': 98411}), (37, 141, {'weight': 42738}), (38, 142, {'weight': 537329}), (38, 143, {'weight': 478573}), (38, 144, {'weight': 441067}), (38, 145, {'weight': 490893}), (39, 146, {'weight': 836}), (39, 147, {'weight': 447074}), (39, 148, {'weight': 12423}), (40, 151, {'weight': 1101151}), (40, 152, {'weight': 1566773}), (41, 153, {'weight': 382541}), (41, 154, {'weight': 148966}), (42, 160, {'weight': 787470}), (42, 161, {'weight': 971757}), (42, 162, {'weight': 979752}), (43, 167, {'weight': 1195055}), (43, 168, {'weight': 211070}), (43, 169, {'weight': 681039}), (43, 170, {'weight': 986848}), (50, 230, {'weight': 560044}), (51, 199, {'weight': 195245}), (51, 209, {'weight': 579114}), (51, 212, {'weight': 126485}), (51, 213, {'weight': 320801}), (51, 224, {'weight': 58966}), (51, 225, {'weight': 1893235}), (51, 226, {'weight': 352449}), (51, 228, {'weight': 307135}), (73, 17, {'weight': 21803}), (17, 74, {'weight': 43348}), (75, 18, {'weight': 37539}), (18, 76, {'weight': 74496}), (18, 77, {'weight': 207534}), (18, 78, {'weight': 35082}), (79, 19, {'weight': 7276}), (19, 80, {'weight': 37910}), (19, 81, {'weight': 6754}), (82, 20, {'weight': 114932}), (20, 83, {'weight': 105996}), (20, 84, {'weight': 91290}), (172, 45, {'weight': 1050906}), (45, 184, {'weight': 960397}), (45, 186, {'weight': 907550}), (180, 44, {'weight': 1383330}), (44, 181, {'weight': 1441096}), (44, 183, {'weight': 1463592}), (187, 46, {'weight': 518900}), (46, 192, {'weight': 343036}), (46, 194, {'weight': 524538}), (197, 49, {'weight': 178174}), (49, 210, {'weight': 772388}), (49, 215, {'weight': 621910}), (49, 216, {'weight': 704548}), (200, 47, {'weight': 1333552}), (47, 201, {'weight': 923281}), (47, 202, {'weight': 1130224}), (47, 207, {'weight': 1278597}), (203, 48, {'weight': 912066}), (48, 204, {'weight': 532086}), (48, 205, {'weight': 434140}), (48, 208, {'weight': 782845}), (206, 52, {'weight': 64396}), (52, 214, {'weight': 89645}), (52, 218, {'weight': 3907}), (52, 223, {'weight': 224726}), (52, 227, {'weight': 251688}), (52, 229, {'weight': 82880})]\n",
      "We have 44 matches\n",
      "{(28, 107), (51, 224), (18, 78), (10, 40), (73, 17), (24, 94), (39, 146), (3, 1), (43, 168), (7, 29), (21, 86), (20, 84), (197, 49), (32, 119), (13, 60), (15, 66), (126, 34), (8, 33), (12, 55), (38, 144), (45, 186), (42, 160), (11, 50), (37, 139), (22, 89), (47, 201), (2, 4), (46, 192), (19, 81), (31, 116), (180, 44), (16, 70), (41, 154), (27, 106), (52, 218), (48, 205), (14, 63), (6, 25), (30, 114), (26, 101), (36, 136), (0, 9), (5, 23), (35, 131)}\n"
     ]
    }
   ],
   "source": [
    "import networkx as nx\n",
    "import pandas as pd\n",
    "\n",
    "control_df: pd.DataFrame = nominees.reset_index(drop=True)\n",
    "treated_df: pd.DataFrame = winners.reset_index(drop=True)\n",
    "\n",
    "print(len(control_df))\n",
    "print(len(treated_df))\n",
    "\n",
    "G = nx.Graph()\n",
    "\n",
    "for control_id, control_row in control_df.iterrows():\n",
    "    for treated_id, treated_row in treated_df.iterrows():\n",
    "        if control_row['release'] == treated_row['release']:\n",
    "            diff_nb_votes = abs(control_row['numVotes'] - treated_row['numVotes'])\n",
    "            #print(f\"Adding edge between {control_id} and {treated_id} with weight {diff_nb_votes}\")\n",
    "\n",
    "            if treated_id > 60:\n",
    "                print(f\"Adding edge between {control_id} and {treated_id} with weight {diff_nb_votes}\")\n",
    "\n",
    "            G.add_weighted_edges_from([(control_id, treated_id, diff_nb_votes)])\n",
    "\n",
    "print(G.edges(data=True))\n",
    "\n",
    "matching = nx.min_weight_matching(G)\n",
    "\n",
    "print(f\"We have {len(matching)} matches\")\n",
    "print(matching)"
   ]
  },
  {
   "cell_type": "markdown",
   "metadata": {},
   "source": [
    "We may now cmopute the average treatement effect to estimate the effect of winning an oscar on the average rating."
   ]
  },
  {
   "cell_type": "code",
   "execution_count": 22,
   "metadata": {},
   "outputs": [
    {
     "ename": "KeyError",
     "evalue": "107",
     "output_type": "error",
     "traceback": [
      "\u001b[0;31m---------------------------------------------------------------------------\u001b[0m",
      "\u001b[0;31mValueError\u001b[0m                                Traceback (most recent call last)",
      "File \u001b[0;32m~/miniconda3/envs/ada/lib/python3.11/site-packages/pandas/core/indexes/range.py:413\u001b[0m, in \u001b[0;36mRangeIndex.get_loc\u001b[0;34m(self, key)\u001b[0m\n\u001b[1;32m    412\u001b[0m \u001b[38;5;28;01mtry\u001b[39;00m:\n\u001b[0;32m--> 413\u001b[0m     \u001b[38;5;28;01mreturn\u001b[39;00m \u001b[38;5;28;43mself\u001b[39;49m\u001b[38;5;241;43m.\u001b[39;49m\u001b[43m_range\u001b[49m\u001b[38;5;241;43m.\u001b[39;49m\u001b[43mindex\u001b[49m\u001b[43m(\u001b[49m\u001b[43mnew_key\u001b[49m\u001b[43m)\u001b[49m\n\u001b[1;32m    414\u001b[0m \u001b[38;5;28;01mexcept\u001b[39;00m \u001b[38;5;167;01mValueError\u001b[39;00m \u001b[38;5;28;01mas\u001b[39;00m err:\n",
      "\u001b[0;31mValueError\u001b[0m: 107 is not in range",
      "\nThe above exception was the direct cause of the following exception:\n",
      "\u001b[0;31mKeyError\u001b[0m                                  Traceback (most recent call last)",
      "Cell \u001b[0;32mIn[22], line 5\u001b[0m\n\u001b[1;32m      3\u001b[0m \u001b[38;5;28;01mfor\u001b[39;00m pair \u001b[38;5;129;01min\u001b[39;00m matching:\n\u001b[1;32m      4\u001b[0m     control_row \u001b[38;5;241m=\u001b[39m control_df\u001b[38;5;241m.\u001b[39mloc[pair[\u001b[38;5;241m0\u001b[39m]]\n\u001b[0;32m----> 5\u001b[0m     treated_row \u001b[38;5;241m=\u001b[39m \u001b[43mtreated_df\u001b[49m\u001b[38;5;241;43m.\u001b[39;49m\u001b[43mloc\u001b[49m\u001b[43m[\u001b[49m\u001b[43mpair\u001b[49m\u001b[43m[\u001b[49m\u001b[38;5;241;43m1\u001b[39;49m\u001b[43m]\u001b[49m\u001b[43m]\u001b[49m\n\u001b[1;32m      6\u001b[0m     ATE \u001b[38;5;241m+\u001b[39m\u001b[38;5;241m=\u001b[39m treated_row[\u001b[38;5;124m'\u001b[39m\u001b[38;5;124maverageRating\u001b[39m\u001b[38;5;124m'\u001b[39m] \u001b[38;5;241m-\u001b[39m control_row[\u001b[38;5;124m'\u001b[39m\u001b[38;5;124maverageRating\u001b[39m\u001b[38;5;124m'\u001b[39m]\n\u001b[1;32m      8\u001b[0m ATE \u001b[38;5;241m/\u001b[39m\u001b[38;5;241m=\u001b[39m \u001b[38;5;28mlen\u001b[39m(matching)\n",
      "File \u001b[0;32m~/miniconda3/envs/ada/lib/python3.11/site-packages/pandas/core/indexing.py:1191\u001b[0m, in \u001b[0;36m_LocationIndexer.__getitem__\u001b[0;34m(self, key)\u001b[0m\n\u001b[1;32m   1189\u001b[0m maybe_callable \u001b[38;5;241m=\u001b[39m com\u001b[38;5;241m.\u001b[39mapply_if_callable(key, \u001b[38;5;28mself\u001b[39m\u001b[38;5;241m.\u001b[39mobj)\n\u001b[1;32m   1190\u001b[0m maybe_callable \u001b[38;5;241m=\u001b[39m \u001b[38;5;28mself\u001b[39m\u001b[38;5;241m.\u001b[39m_check_deprecated_callable_usage(key, maybe_callable)\n\u001b[0;32m-> 1191\u001b[0m \u001b[38;5;28;01mreturn\u001b[39;00m \u001b[38;5;28;43mself\u001b[39;49m\u001b[38;5;241;43m.\u001b[39;49m\u001b[43m_getitem_axis\u001b[49m\u001b[43m(\u001b[49m\u001b[43mmaybe_callable\u001b[49m\u001b[43m,\u001b[49m\u001b[43m \u001b[49m\u001b[43maxis\u001b[49m\u001b[38;5;241;43m=\u001b[39;49m\u001b[43maxis\u001b[49m\u001b[43m)\u001b[49m\n",
      "File \u001b[0;32m~/miniconda3/envs/ada/lib/python3.11/site-packages/pandas/core/indexing.py:1431\u001b[0m, in \u001b[0;36m_LocIndexer._getitem_axis\u001b[0;34m(self, key, axis)\u001b[0m\n\u001b[1;32m   1429\u001b[0m \u001b[38;5;66;03m# fall thru to straight lookup\u001b[39;00m\n\u001b[1;32m   1430\u001b[0m \u001b[38;5;28mself\u001b[39m\u001b[38;5;241m.\u001b[39m_validate_key(key, axis)\n\u001b[0;32m-> 1431\u001b[0m \u001b[38;5;28;01mreturn\u001b[39;00m \u001b[38;5;28;43mself\u001b[39;49m\u001b[38;5;241;43m.\u001b[39;49m\u001b[43m_get_label\u001b[49m\u001b[43m(\u001b[49m\u001b[43mkey\u001b[49m\u001b[43m,\u001b[49m\u001b[43m \u001b[49m\u001b[43maxis\u001b[49m\u001b[38;5;241;43m=\u001b[39;49m\u001b[43maxis\u001b[49m\u001b[43m)\u001b[49m\n",
      "File \u001b[0;32m~/miniconda3/envs/ada/lib/python3.11/site-packages/pandas/core/indexing.py:1381\u001b[0m, in \u001b[0;36m_LocIndexer._get_label\u001b[0;34m(self, label, axis)\u001b[0m\n\u001b[1;32m   1379\u001b[0m \u001b[38;5;28;01mdef\u001b[39;00m \u001b[38;5;21m_get_label\u001b[39m(\u001b[38;5;28mself\u001b[39m, label, axis: AxisInt):\n\u001b[1;32m   1380\u001b[0m     \u001b[38;5;66;03m# GH#5567 this will fail if the label is not present in the axis.\u001b[39;00m\n\u001b[0;32m-> 1381\u001b[0m     \u001b[38;5;28;01mreturn\u001b[39;00m \u001b[38;5;28;43mself\u001b[39;49m\u001b[38;5;241;43m.\u001b[39;49m\u001b[43mobj\u001b[49m\u001b[38;5;241;43m.\u001b[39;49m\u001b[43mxs\u001b[49m\u001b[43m(\u001b[49m\u001b[43mlabel\u001b[49m\u001b[43m,\u001b[49m\u001b[43m \u001b[49m\u001b[43maxis\u001b[49m\u001b[38;5;241;43m=\u001b[39;49m\u001b[43maxis\u001b[49m\u001b[43m)\u001b[49m\n",
      "File \u001b[0;32m~/miniconda3/envs/ada/lib/python3.11/site-packages/pandas/core/generic.py:4301\u001b[0m, in \u001b[0;36mNDFrame.xs\u001b[0;34m(self, key, axis, level, drop_level)\u001b[0m\n\u001b[1;32m   4299\u001b[0m             new_index \u001b[38;5;241m=\u001b[39m index[loc]\n\u001b[1;32m   4300\u001b[0m \u001b[38;5;28;01melse\u001b[39;00m:\n\u001b[0;32m-> 4301\u001b[0m     loc \u001b[38;5;241m=\u001b[39m \u001b[43mindex\u001b[49m\u001b[38;5;241;43m.\u001b[39;49m\u001b[43mget_loc\u001b[49m\u001b[43m(\u001b[49m\u001b[43mkey\u001b[49m\u001b[43m)\u001b[49m\n\u001b[1;32m   4303\u001b[0m     \u001b[38;5;28;01mif\u001b[39;00m \u001b[38;5;28misinstance\u001b[39m(loc, np\u001b[38;5;241m.\u001b[39mndarray):\n\u001b[1;32m   4304\u001b[0m         \u001b[38;5;28;01mif\u001b[39;00m loc\u001b[38;5;241m.\u001b[39mdtype \u001b[38;5;241m==\u001b[39m np\u001b[38;5;241m.\u001b[39mbool_:\n",
      "File \u001b[0;32m~/miniconda3/envs/ada/lib/python3.11/site-packages/pandas/core/indexes/range.py:415\u001b[0m, in \u001b[0;36mRangeIndex.get_loc\u001b[0;34m(self, key)\u001b[0m\n\u001b[1;32m    413\u001b[0m         \u001b[38;5;28;01mreturn\u001b[39;00m \u001b[38;5;28mself\u001b[39m\u001b[38;5;241m.\u001b[39m_range\u001b[38;5;241m.\u001b[39mindex(new_key)\n\u001b[1;32m    414\u001b[0m     \u001b[38;5;28;01mexcept\u001b[39;00m \u001b[38;5;167;01mValueError\u001b[39;00m \u001b[38;5;28;01mas\u001b[39;00m err:\n\u001b[0;32m--> 415\u001b[0m         \u001b[38;5;28;01mraise\u001b[39;00m \u001b[38;5;167;01mKeyError\u001b[39;00m(key) \u001b[38;5;28;01mfrom\u001b[39;00m \u001b[38;5;21;01merr\u001b[39;00m\n\u001b[1;32m    416\u001b[0m \u001b[38;5;28;01mif\u001b[39;00m \u001b[38;5;28misinstance\u001b[39m(key, Hashable):\n\u001b[1;32m    417\u001b[0m     \u001b[38;5;28;01mraise\u001b[39;00m \u001b[38;5;167;01mKeyError\u001b[39;00m(key)\n",
      "\u001b[0;31mKeyError\u001b[0m: 107"
     ]
    }
   ],
   "source": [
    "ATE = 0\n",
    "\n",
    "for pair in matching:\n",
    "    \n",
    "    ATE += treated_row['averageRating'] - control_row['averageRating']\n",
    "\n",
    "ATE /= len(matching)\n",
    "\n",
    "print(f\"The Average Treatment Effect is {ATE:.2f} rating units\")"
   ]
  },
  {
   "cell_type": "code",
   "execution_count": null,
   "metadata": {},
   "outputs": [],
   "source": []
  }
 ],
 "metadata": {
  "kernelspec": {
   "display_name": "ada",
   "language": "python",
   "name": "python3"
  },
  "language_info": {
   "codemirror_mode": {
    "name": "ipython",
    "version": 3
   },
   "file_extension": ".py",
   "mimetype": "text/x-python",
   "name": "python",
   "nbconvert_exporter": "python",
   "pygments_lexer": "ipython3",
   "version": "3.11.9"
  }
 },
 "nbformat": 4,
 "nbformat_minor": 2
}
