{
 "cells": [
  {
   "cell_type": "code",
   "execution_count": 13,
   "metadata": {},
   "outputs": [],
   "source": [
    "import pandas as pd\n",
    "import statsmodels.formula.api as smf"
   ]
  },
  {
   "cell_type": "code",
   "execution_count": 2,
   "metadata": {},
   "outputs": [
    {
     "data": {
      "text/html": [
       "<div>\n",
       "<style scoped>\n",
       "    .dataframe tbody tr th:only-of-type {\n",
       "        vertical-align: middle;\n",
       "    }\n",
       "\n",
       "    .dataframe tbody tr th {\n",
       "        vertical-align: top;\n",
       "    }\n",
       "\n",
       "    .dataframe thead th {\n",
       "        text-align: right;\n",
       "    }\n",
       "</style>\n",
       "<table border=\"1\" class=\"dataframe\">\n",
       "  <thead>\n",
       "    <tr style=\"text-align: right;\">\n",
       "      <th></th>\n",
       "      <th>tconst</th>\n",
       "      <th>primaryTitle</th>\n",
       "      <th>IMDB_genres</th>\n",
       "      <th>averageRating</th>\n",
       "      <th>numVotes</th>\n",
       "      <th>release</th>\n",
       "      <th>revenue</th>\n",
       "      <th>runtime</th>\n",
       "      <th>countries</th>\n",
       "      <th>oscar_category</th>\n",
       "      <th>oscar_year</th>\n",
       "      <th>winner</th>\n",
       "    </tr>\n",
       "  </thead>\n",
       "  <tbody>\n",
       "    <tr>\n",
       "      <th>0</th>\n",
       "      <td>tt0036775</td>\n",
       "      <td>double indemnity</td>\n",
       "      <td>Crime,Drama,Film-Noir</td>\n",
       "      <td>8.3</td>\n",
       "      <td>170475</td>\n",
       "      <td>1944.0</td>\n",
       "      <td>5000000.0</td>\n",
       "      <td>108.0</td>\n",
       "      <td>United States of America</td>\n",
       "      <td>best motion picture</td>\n",
       "      <td>1945</td>\n",
       "      <td>False</td>\n",
       "    </tr>\n",
       "    <tr>\n",
       "      <th>1</th>\n",
       "      <td>tt0036855</td>\n",
       "      <td>gaslight</td>\n",
       "      <td>Crime,Drama,Mystery</td>\n",
       "      <td>7.8</td>\n",
       "      <td>34945</td>\n",
       "      <td>1944.0</td>\n",
       "      <td>4613000.0</td>\n",
       "      <td>114.0</td>\n",
       "      <td>United States of America</td>\n",
       "      <td>best motion picture</td>\n",
       "      <td>1945</td>\n",
       "      <td>False</td>\n",
       "    </tr>\n",
       "    <tr>\n",
       "      <th>2</th>\n",
       "      <td>tt0036868</td>\n",
       "      <td>the best years of our lives</td>\n",
       "      <td>Drama,Romance,War</td>\n",
       "      <td>8.1</td>\n",
       "      <td>72109</td>\n",
       "      <td>1946.0</td>\n",
       "      <td>23650000.0</td>\n",
       "      <td>168.0</td>\n",
       "      <td>United States of America</td>\n",
       "      <td>best motion picture</td>\n",
       "      <td>1947</td>\n",
       "      <td>True</td>\n",
       "    </tr>\n",
       "    <tr>\n",
       "      <th>3</th>\n",
       "      <td>tt0036872</td>\n",
       "      <td>going my way</td>\n",
       "      <td>Comedy,Drama,Music</td>\n",
       "      <td>7.0</td>\n",
       "      <td>13723</td>\n",
       "      <td>1944.0</td>\n",
       "      <td>NaN</td>\n",
       "      <td>126.0</td>\n",
       "      <td>United States of America</td>\n",
       "      <td>best motion picture</td>\n",
       "      <td>1945</td>\n",
       "      <td>True</td>\n",
       "    </tr>\n",
       "    <tr>\n",
       "      <th>4</th>\n",
       "      <td>tt0037280</td>\n",
       "      <td>since you went away</td>\n",
       "      <td>Drama,Romance,War</td>\n",
       "      <td>7.5</td>\n",
       "      <td>5182</td>\n",
       "      <td>1944.0</td>\n",
       "      <td>NaN</td>\n",
       "      <td>172.0</td>\n",
       "      <td>United States of America</td>\n",
       "      <td>best motion picture</td>\n",
       "      <td>1945</td>\n",
       "      <td>False</td>\n",
       "    </tr>\n",
       "  </tbody>\n",
       "</table>\n",
       "</div>"
      ],
      "text/plain": [
       "      tconst                 primaryTitle            IMDB_genres  \\\n",
       "0  tt0036775             double indemnity  Crime,Drama,Film-Noir   \n",
       "1  tt0036855                     gaslight    Crime,Drama,Mystery   \n",
       "2  tt0036868  the best years of our lives      Drama,Romance,War   \n",
       "3  tt0036872                 going my way     Comedy,Drama,Music   \n",
       "4  tt0037280          since you went away      Drama,Romance,War   \n",
       "\n",
       "   averageRating  numVotes  release     revenue  runtime  \\\n",
       "0            8.3    170475   1944.0   5000000.0    108.0   \n",
       "1            7.8     34945   1944.0   4613000.0    114.0   \n",
       "2            8.1     72109   1946.0  23650000.0    168.0   \n",
       "3            7.0     13723   1944.0         NaN    126.0   \n",
       "4            7.5      5182   1944.0         NaN    172.0   \n",
       "\n",
       "                  countries       oscar_category  oscar_year  winner  \n",
       "0  United States of America  best motion picture        1945   False  \n",
       "1  United States of America  best motion picture        1945   False  \n",
       "2  United States of America  best motion picture        1947    True  \n",
       "3  United States of America  best motion picture        1945    True  \n",
       "4  United States of America  best motion picture        1945   False  "
      ]
     },
     "execution_count": 2,
     "metadata": {},
     "output_type": "execute_result"
    }
   ],
   "source": [
    "\n",
    "PATH = \"data/\"\n",
    "data = pd.read_csv(PATH + 'oscar_movies.csv')\n",
    "data.head()"
   ]
  },
  {
   "cell_type": "code",
   "execution_count": 3,
   "metadata": {},
   "outputs": [],
   "source": [
    "def parse_str_to_list(column):\n",
    "    \"\"\"\n",
    "    Parses a column of strings, splitting each string by commas to\n",
    "    create a list for each entry.\n",
    "\n",
    "    Parameters:\n",
    "    column (pd.Series): A pandas Series containing strings separated by commas.\n",
    "\n",
    "    Returns:\n",
    "    pd.Series: A Series where each element is a list.\n",
    "               If an element in the original Series is null, it returns an empty list.\n",
    "    \"\"\"\n",
    "    return column.apply(lambda x: [text.strip() for text in x.split(\",\")] if pd.notnull(x) else [])"
   ]
  },
  {
   "cell_type": "code",
   "execution_count": 4,
   "metadata": {},
   "outputs": [],
   "source": [
    "data = data[['countries','winner', 'averageRating', 'revenue', 'runtime', 'IMDB_genres']]#data.drop(columns = ['tconst', 'numVotes', 'release', 'oscar_category', 'oscar_year'])\n",
    "data = data.dropna()\n",
    "data['countries'] = parse_str_to_list(data['countries'])\n",
    "data['IMDB_genres'] = parse_str_to_list(data['IMDB_genres'])"
   ]
  },
  {
   "cell_type": "code",
   "execution_count": 5,
   "metadata": {},
   "outputs": [],
   "source": [
    "# Explode the countries into individual rows\n",
    "exploded = data.explode('countries')\n",
    "\n",
    "# Perform one-hot encoding of the 'countries' column\n",
    "df_one_hot = pd.get_dummies(exploded['countries'], prefix='country', drop_first=True).astype(int)\n",
    "df_one_hot = df_one_hot['country_United States of America']\n",
    "# Merge the one-hot encoded columns back to the original DataFrame\n",
    "df = pd.concat([exploded, df_one_hot], axis=1).groupby(level=0).max()\n",
    "df['winner'] = df['winner'].astype(int)"
   ]
  },
  {
   "cell_type": "code",
   "execution_count": 6,
   "metadata": {},
   "outputs": [],
   "source": [
    "exploded = df.explode('IMDB_genres')\n",
    "df_one_hot = pd.get_dummies(exploded['IMDB_genres'], prefix='genre', drop_first=True).astype(int)\n",
    "df_one_hot = df_one_hot['genre_Drama']\n",
    "df = pd.concat([exploded, df_one_hot], axis=1).groupby(level=0).max()"
   ]
  },
  {
   "cell_type": "code",
   "execution_count": 7,
   "metadata": {},
   "outputs": [
    {
     "data": {
      "text/html": [
       "<div>\n",
       "<style scoped>\n",
       "    .dataframe tbody tr th:only-of-type {\n",
       "        vertical-align: middle;\n",
       "    }\n",
       "\n",
       "    .dataframe tbody tr th {\n",
       "        vertical-align: top;\n",
       "    }\n",
       "\n",
       "    .dataframe thead th {\n",
       "        text-align: right;\n",
       "    }\n",
       "</style>\n",
       "<table border=\"1\" class=\"dataframe\">\n",
       "  <thead>\n",
       "    <tr style=\"text-align: right;\">\n",
       "      <th></th>\n",
       "      <th>countries</th>\n",
       "      <th>winner</th>\n",
       "      <th>averageRating</th>\n",
       "      <th>revenue</th>\n",
       "      <th>runtime</th>\n",
       "      <th>IMDB_genres</th>\n",
       "      <th>country_United States of America</th>\n",
       "      <th>genre_Drama</th>\n",
       "    </tr>\n",
       "  </thead>\n",
       "  <tbody>\n",
       "    <tr>\n",
       "      <th>0</th>\n",
       "      <td>United States of America</td>\n",
       "      <td>0</td>\n",
       "      <td>8.3</td>\n",
       "      <td>5000000.0</td>\n",
       "      <td>108.0</td>\n",
       "      <td>Film-Noir</td>\n",
       "      <td>1</td>\n",
       "      <td>1</td>\n",
       "    </tr>\n",
       "    <tr>\n",
       "      <th>1</th>\n",
       "      <td>United States of America</td>\n",
       "      <td>0</td>\n",
       "      <td>7.8</td>\n",
       "      <td>4613000.0</td>\n",
       "      <td>114.0</td>\n",
       "      <td>Mystery</td>\n",
       "      <td>1</td>\n",
       "      <td>1</td>\n",
       "    </tr>\n",
       "    <tr>\n",
       "      <th>2</th>\n",
       "      <td>United States of America</td>\n",
       "      <td>1</td>\n",
       "      <td>8.1</td>\n",
       "      <td>23650000.0</td>\n",
       "      <td>168.0</td>\n",
       "      <td>War</td>\n",
       "      <td>1</td>\n",
       "      <td>1</td>\n",
       "    </tr>\n",
       "    <tr>\n",
       "      <th>7</th>\n",
       "      <td>United States of America</td>\n",
       "      <td>0</td>\n",
       "      <td>7.2</td>\n",
       "      <td>21333333.0</td>\n",
       "      <td>126.0</td>\n",
       "      <td>Drama</td>\n",
       "      <td>1</td>\n",
       "      <td>1</td>\n",
       "    </tr>\n",
       "    <tr>\n",
       "      <th>10</th>\n",
       "      <td>United States of America</td>\n",
       "      <td>0</td>\n",
       "      <td>7.5</td>\n",
       "      <td>7000000.0</td>\n",
       "      <td>110.0</td>\n",
       "      <td>Romance</td>\n",
       "      <td>1</td>\n",
       "      <td>0</td>\n",
       "    </tr>\n",
       "  </tbody>\n",
       "</table>\n",
       "</div>"
      ],
      "text/plain": [
       "                   countries  winner  averageRating     revenue  runtime  \\\n",
       "0   United States of America       0            8.3   5000000.0    108.0   \n",
       "1   United States of America       0            7.8   4613000.0    114.0   \n",
       "2   United States of America       1            8.1  23650000.0    168.0   \n",
       "7   United States of America       0            7.2  21333333.0    126.0   \n",
       "10  United States of America       0            7.5   7000000.0    110.0   \n",
       "\n",
       "   IMDB_genres  country_United States of America  genre_Drama  \n",
       "0    Film-Noir                                 1            1  \n",
       "1      Mystery                                 1            1  \n",
       "2          War                                 1            1  \n",
       "7        Drama                                 1            1  \n",
       "10     Romance                                 1            0  "
      ]
     },
     "execution_count": 7,
     "metadata": {},
     "output_type": "execute_result"
    }
   ],
   "source": [
    "df.head()"
   ]
  },
  {
   "cell_type": "code",
   "execution_count": 8,
   "metadata": {},
   "outputs": [],
   "source": [
    "df = df.drop(columns = {'countries','IMDB_genres'})"
   ]
  },
  {
   "cell_type": "code",
   "execution_count": 9,
   "metadata": {},
   "outputs": [],
   "source": [
    "df = df.rename(columns = {'country_United States of America':'fromUSA', 'genre_Drama':'isDrama'})\n"
   ]
  },
  {
   "cell_type": "code",
   "execution_count": 10,
   "metadata": {},
   "outputs": [],
   "source": [
    "formula = 'winner ~ averageRating + fromUSA + revenue + runtime + isDrama'"
   ]
  },
  {
   "cell_type": "code",
   "execution_count": 11,
   "metadata": {},
   "outputs": [
    {
     "name": "stdout",
     "output_type": "stream",
     "text": [
      "Optimization terminated successfully.\n",
      "         Current function value: 0.458398\n",
      "         Iterations 6\n"
     ]
    }
   ],
   "source": [
    "logit_model = smf.logit(formula=formula, data=df).fit()"
   ]
  },
  {
   "cell_type": "code",
   "execution_count": 12,
   "metadata": {},
   "outputs": [
    {
     "name": "stdout",
     "output_type": "stream",
     "text": [
      "                           Logit Regression Results                           \n",
      "==============================================================================\n",
      "Dep. Variable:                 winner   No. Observations:                  226\n",
      "Model:                          Logit   Df Residuals:                      220\n",
      "Method:                           MLE   Df Model:                            5\n",
      "Date:                Tue, 26 Nov 2024   Pseudo R-squ.:                 0.08169\n",
      "Time:                        15:25:00   Log-Likelihood:                -103.60\n",
      "converged:                       True   LL-Null:                       -112.81\n",
      "Covariance Type:            nonrobust   LLR p-value:                  0.002452\n",
      "=================================================================================\n",
      "                    coef    std err          z      P>|z|      [0.025      0.975]\n",
      "---------------------------------------------------------------------------------\n",
      "Intercept       -11.3287      3.025     -3.746      0.000     -17.257      -5.401\n",
      "averageRating     1.1193      0.380      2.945      0.003       0.374       1.864\n",
      "fromUSA          -0.7837      0.585     -1.340      0.180      -1.930       0.363\n",
      "revenue        3.039e-10   7.49e-10      0.406      0.685   -1.16e-09    1.77e-09\n",
      "runtime           0.0083      0.007      1.205      0.228      -0.005       0.022\n",
      "isDrama           0.8749      0.832      1.052      0.293      -0.756       2.505\n",
      "=================================================================================\n"
     ]
    }
   ],
   "source": [
    "print(logit_model.summary())"
   ]
  },
  {
   "cell_type": "markdown",
   "metadata": {},
   "source": [
    "The average rating influences positively the chance of winning. Being from the USA influences negatively but the confidence interval includes 0 and the P value is bigger than 0.05 thus it is not significant. The revenue, runtime and being of genre Drama are not significant either."
   ]
  },
  {
   "cell_type": "code",
   "execution_count": null,
   "metadata": {},
   "outputs": [],
   "source": []
  }
 ],
 "metadata": {
  "kernelspec": {
   "display_name": "base",
   "language": "python",
   "name": "python3"
  },
  "language_info": {
   "codemirror_mode": {
    "name": "ipython",
    "version": 3
   },
   "file_extension": ".py",
   "mimetype": "text/x-python",
   "name": "python",
   "nbconvert_exporter": "python",
   "pygments_lexer": "ipython3",
   "version": "3.12.2"
  }
 },
 "nbformat": 4,
 "nbformat_minor": 2
}
