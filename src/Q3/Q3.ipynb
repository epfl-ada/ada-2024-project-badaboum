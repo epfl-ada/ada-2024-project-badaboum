{
 "cells": [
  {
   "cell_type": "markdown",
   "metadata": {},
   "source": [
    "# Question 3"
   ]
  },
  {
   "cell_type": "code",
   "execution_count": 1,
   "metadata": {},
   "outputs": [],
   "source": [
    "import question3 as q3\n",
    "import warnings\n",
    "warnings.filterwarnings('ignore')"
   ]
  },
  {
   "cell_type": "markdown",
   "metadata": {},
   "source": [
    "Do Oscar judges favor any high profile director? This is the question we will be answering to in this section.\n",
    "\n",
    "To estimate how popular a director was at the year of the given oscar ceremony, we set a 'high profile score' as the mean of all the box office revenue the director has participated in before the oscar ceremony."
   ]
  },
  {
   "cell_type": "code",
   "execution_count": null,
   "metadata": {},
   "outputs": [],
   "source": [
    "df_Q3, df_actor = q3.load_data_Q3()\n"
   ]
  },
  {
   "cell_type": "code",
   "execution_count": null,
   "metadata": {},
   "outputs": [
    {
     "data": {
      "text/html": [
       "<div>\n",
       "<style scoped>\n",
       "    .dataframe tbody tr th:only-of-type {\n",
       "        vertical-align: middle;\n",
       "    }\n",
       "\n",
       "    .dataframe tbody tr th {\n",
       "        vertical-align: top;\n",
       "    }\n",
       "\n",
       "    .dataframe thead th {\n",
       "        text-align: right;\n",
       "    }\n",
       "</style>\n",
       "<table border=\"1\" class=\"dataframe\">\n",
       "  <thead>\n",
       "    <tr style=\"text-align: right;\">\n",
       "      <th></th>\n",
       "      <th>nconst</th>\n",
       "      <th>primaryName</th>\n",
       "      <th>birthYear</th>\n",
       "      <th>deathYear</th>\n",
       "      <th>primaryProfession</th>\n",
       "      <th>knownForTitles</th>\n",
       "      <th>profile_score</th>\n",
       "    </tr>\n",
       "  </thead>\n",
       "  <tbody>\n",
       "    <tr>\n",
       "      <th>0</th>\n",
       "      <td>nm0000001</td>\n",
       "      <td>Fred Astaire</td>\n",
       "      <td>1899</td>\n",
       "      <td>1987</td>\n",
       "      <td>[actor, miscellaneous, producer]</td>\n",
       "      <td>[The Towering Inferno, Funny Face, On the Beac...</td>\n",
       "      <td>34925000.0</td>\n",
       "    </tr>\n",
       "    <tr>\n",
       "      <th>5</th>\n",
       "      <td>nm0000006</td>\n",
       "      <td>Ingrid Bergman</td>\n",
       "      <td>1915</td>\n",
       "      <td>1982</td>\n",
       "      <td>[actress, producer, soundtrack]</td>\n",
       "      <td>[Casablanca, Gaslight, Spellbound, Notorious]</td>\n",
       "      <td>2903250.0</td>\n",
       "    </tr>\n",
       "    <tr>\n",
       "      <th>7</th>\n",
       "      <td>nm0000008</td>\n",
       "      <td>Marlon Brando</td>\n",
       "      <td>1924</td>\n",
       "      <td>2004</td>\n",
       "      <td>[actor, director, writer]</td>\n",
       "      <td>[Apocalypse Now, The Godfather, On the Waterfr...</td>\n",
       "      <td>69525000.0</td>\n",
       "    </tr>\n",
       "    <tr>\n",
       "      <th>8</th>\n",
       "      <td>nm0000009</td>\n",
       "      <td>Richard Burton</td>\n",
       "      <td>1925</td>\n",
       "      <td>1984</td>\n",
       "      <td>[actor, producer, director]</td>\n",
       "      <td>[Who's Afraid of Virginia Woolf?, 1984, The Sp...</td>\n",
       "      <td>10000000.0</td>\n",
       "    </tr>\n",
       "    <tr>\n",
       "      <th>10</th>\n",
       "      <td>nm0000011</td>\n",
       "      <td>Gary Cooper</td>\n",
       "      <td>1901</td>\n",
       "      <td>1961</td>\n",
       "      <td>[actor, stunts, producer]</td>\n",
       "      <td>[High Noon, Sergeant York, Mr. Deeds Goes to T...</td>\n",
       "      <td>2000000.0</td>\n",
       "    </tr>\n",
       "  </tbody>\n",
       "</table>\n",
       "</div>"
      ],
      "text/plain": [
       "       nconst     primaryName birthYear deathYear  \\\n",
       "0   nm0000001    Fred Astaire      1899      1987   \n",
       "5   nm0000006  Ingrid Bergman      1915      1982   \n",
       "7   nm0000008   Marlon Brando      1924      2004   \n",
       "8   nm0000009  Richard Burton      1925      1984   \n",
       "10  nm0000011     Gary Cooper      1901      1961   \n",
       "\n",
       "                   primaryProfession  \\\n",
       "0   [actor, miscellaneous, producer]   \n",
       "5    [actress, producer, soundtrack]   \n",
       "7          [actor, director, writer]   \n",
       "8        [actor, producer, director]   \n",
       "10         [actor, stunts, producer]   \n",
       "\n",
       "                                       knownForTitles  profile_score  \n",
       "0   [The Towering Inferno, Funny Face, On the Beac...     34925000.0  \n",
       "5       [Casablanca, Gaslight, Spellbound, Notorious]      2903250.0  \n",
       "7   [Apocalypse Now, The Godfather, On the Waterfr...     69525000.0  \n",
       "8   [Who's Afraid of Virginia Woolf?, 1984, The Sp...     10000000.0  \n",
       "10  [High Noon, Sergeant York, Mr. Deeds Goes to T...      2000000.0  "
      ]
     },
     "execution_count": 3,
     "metadata": {},
     "output_type": "execute_result"
    }
   ],
   "source": [
    "df_actor.head(5)"
   ]
  },
  {
   "cell_type": "code",
   "execution_count": null,
   "metadata": {},
   "outputs": [
    {
     "data": {
      "text/html": [
       "<div>\n",
       "<style scoped>\n",
       "    .dataframe tbody tr th:only-of-type {\n",
       "        vertical-align: middle;\n",
       "    }\n",
       "\n",
       "    .dataframe tbody tr th {\n",
       "        vertical-align: top;\n",
       "    }\n",
       "\n",
       "    .dataframe thead th {\n",
       "        text-align: right;\n",
       "    }\n",
       "</style>\n",
       "<table border=\"1\" class=\"dataframe\">\n",
       "  <thead>\n",
       "    <tr style=\"text-align: right;\">\n",
       "      <th></th>\n",
       "      <th>tconst</th>\n",
       "      <th>primaryTitle</th>\n",
       "      <th>IMDB_genres</th>\n",
       "      <th>averageRating</th>\n",
       "      <th>numVotes</th>\n",
       "      <th>release</th>\n",
       "      <th>revenue</th>\n",
       "      <th>runtime</th>\n",
       "      <th>countries</th>\n",
       "      <th>oscar_category</th>\n",
       "      <th>oscar_year</th>\n",
       "      <th>winner</th>\n",
       "      <th>directors</th>\n",
       "      <th>writers</th>\n",
       "    </tr>\n",
       "  </thead>\n",
       "  <tbody>\n",
       "    <tr>\n",
       "      <th>0</th>\n",
       "      <td>tt0101414</td>\n",
       "      <td>beauty and the beast</td>\n",
       "      <td>Animation,Family,Fantasy</td>\n",
       "      <td>8.0</td>\n",
       "      <td>486035</td>\n",
       "      <td>1991</td>\n",
       "      <td>424967620.0</td>\n",
       "      <td>85.0</td>\n",
       "      <td>United States of America</td>\n",
       "      <td>best picture</td>\n",
       "      <td>1992</td>\n",
       "      <td>False</td>\n",
       "      <td>Gary Trousdale</td>\n",
       "      <td>nm0941314,nm0152312,nm0761498,nm0560329,nm0363...</td>\n",
       "    </tr>\n",
       "    <tr>\n",
       "      <th>3</th>\n",
       "      <td>tt0063518</td>\n",
       "      <td>romeo and juliet</td>\n",
       "      <td>Drama,Romance</td>\n",
       "      <td>7.6</td>\n",
       "      <td>35297</td>\n",
       "      <td>1968</td>\n",
       "      <td>38901218.0</td>\n",
       "      <td>138.0</td>\n",
       "      <td>Italy, United Kingdom</td>\n",
       "      <td>best picture</td>\n",
       "      <td>1969</td>\n",
       "      <td>False</td>\n",
       "      <td>Franco Zeffirelli</td>\n",
       "      <td>nm0000636,nm0116663,nm0195148,nm0001874</td>\n",
       "    </tr>\n",
       "    <tr>\n",
       "      <th>4</th>\n",
       "      <td>tt0106977</td>\n",
       "      <td>the fugitive</td>\n",
       "      <td>Action,Crime,Drama</td>\n",
       "      <td>7.8</td>\n",
       "      <td>325928</td>\n",
       "      <td>1993</td>\n",
       "      <td>368875760.0</td>\n",
       "      <td>130.0</td>\n",
       "      <td>United States of America</td>\n",
       "      <td>best picture</td>\n",
       "      <td>1994</td>\n",
       "      <td>False</td>\n",
       "      <td>Andrew Davis</td>\n",
       "      <td>nm0835732,nm0878638,nm0400403</td>\n",
       "    </tr>\n",
       "    <tr>\n",
       "      <th>6</th>\n",
       "      <td>tt0783233</td>\n",
       "      <td>atonement</td>\n",
       "      <td>Drama,Mystery,Romance</td>\n",
       "      <td>7.8</td>\n",
       "      <td>305235</td>\n",
       "      <td>2007</td>\n",
       "      <td>129266061.0</td>\n",
       "      <td>122.0</td>\n",
       "      <td>France, United Kingdom</td>\n",
       "      <td>best picture</td>\n",
       "      <td>2008</td>\n",
       "      <td>False</td>\n",
       "      <td>Joe Wright</td>\n",
       "      <td>nm0568605,nm0358960</td>\n",
       "    </tr>\n",
       "    <tr>\n",
       "      <th>7</th>\n",
       "      <td>tt0068473</td>\n",
       "      <td>deliverance</td>\n",
       "      <td>Adventure,Drama,Thriller</td>\n",
       "      <td>7.7</td>\n",
       "      <td>121832</td>\n",
       "      <td>1972</td>\n",
       "      <td>46122355.0</td>\n",
       "      <td>110.0</td>\n",
       "      <td>United States of America</td>\n",
       "      <td>best picture</td>\n",
       "      <td>1973</td>\n",
       "      <td>False</td>\n",
       "      <td>John Boorman</td>\n",
       "      <td>nm0225463,nm0000958</td>\n",
       "    </tr>\n",
       "  </tbody>\n",
       "</table>\n",
       "</div>"
      ],
      "text/plain": [
       "      tconst          primaryTitle               IMDB_genres  averageRating  \\\n",
       "0  tt0101414  beauty and the beast  Animation,Family,Fantasy            8.0   \n",
       "3  tt0063518      romeo and juliet             Drama,Romance            7.6   \n",
       "4  tt0106977          the fugitive        Action,Crime,Drama            7.8   \n",
       "6  tt0783233             atonement     Drama,Mystery,Romance            7.8   \n",
       "7  tt0068473           deliverance  Adventure,Drama,Thriller            7.7   \n",
       "\n",
       "   numVotes  release      revenue  runtime                 countries  \\\n",
       "0    486035     1991  424967620.0     85.0  United States of America   \n",
       "3     35297     1968   38901218.0    138.0     Italy, United Kingdom   \n",
       "4    325928     1993  368875760.0    130.0  United States of America   \n",
       "6    305235     2007  129266061.0    122.0    France, United Kingdom   \n",
       "7    121832     1972   46122355.0    110.0  United States of America   \n",
       "\n",
       "  oscar_category  oscar_year  winner          directors  \\\n",
       "0   best picture        1992   False     Gary Trousdale   \n",
       "3   best picture        1969   False  Franco Zeffirelli   \n",
       "4   best picture        1994   False       Andrew Davis   \n",
       "6   best picture        2008   False         Joe Wright   \n",
       "7   best picture        1973   False       John Boorman   \n",
       "\n",
       "                                             writers  \n",
       "0  nm0941314,nm0152312,nm0761498,nm0560329,nm0363...  \n",
       "3            nm0000636,nm0116663,nm0195148,nm0001874  \n",
       "4                      nm0835732,nm0878638,nm0400403  \n",
       "6                                nm0568605,nm0358960  \n",
       "7                                nm0225463,nm0000958  "
      ]
     },
     "execution_count": 4,
     "metadata": {},
     "output_type": "execute_result"
    }
   ],
   "source": [
    "df_Q3.head(5)"
   ]
  },
  {
   "cell_type": "code",
   "execution_count": null,
   "metadata": {},
   "outputs": [
    {
     "data": {
      "text/html": [
       "<div>\n",
       "<style scoped>\n",
       "    .dataframe tbody tr th:only-of-type {\n",
       "        vertical-align: middle;\n",
       "    }\n",
       "\n",
       "    .dataframe tbody tr th {\n",
       "        vertical-align: top;\n",
       "    }\n",
       "\n",
       "    .dataframe thead th {\n",
       "        text-align: right;\n",
       "    }\n",
       "</style>\n",
       "<table border=\"1\" class=\"dataframe\">\n",
       "  <thead>\n",
       "    <tr style=\"text-align: right;\">\n",
       "      <th></th>\n",
       "      <th>tconst</th>\n",
       "      <th>primaryTitle</th>\n",
       "      <th>IMDB_genres</th>\n",
       "      <th>averageRating</th>\n",
       "      <th>numVotes</th>\n",
       "      <th>release</th>\n",
       "      <th>revenue</th>\n",
       "      <th>runtime</th>\n",
       "      <th>countries</th>\n",
       "      <th>oscar_category</th>\n",
       "      <th>oscar_year</th>\n",
       "      <th>winner</th>\n",
       "      <th>directors</th>\n",
       "      <th>writers</th>\n",
       "      <th>profile score</th>\n",
       "    </tr>\n",
       "  </thead>\n",
       "  <tbody>\n",
       "    <tr>\n",
       "      <th>0</th>\n",
       "      <td>tt0101414</td>\n",
       "      <td>beauty and the beast</td>\n",
       "      <td>Animation,Family,Fantasy</td>\n",
       "      <td>8.0</td>\n",
       "      <td>486035</td>\n",
       "      <td>1991</td>\n",
       "      <td>424967620.0</td>\n",
       "      <td>85.0</td>\n",
       "      <td>United States of America</td>\n",
       "      <td>best picture</td>\n",
       "      <td>1992</td>\n",
       "      <td>False</td>\n",
       "      <td>Gary Trousdale</td>\n",
       "      <td>nm0941314,nm0152312,nm0761498,nm0560329,nm0363...</td>\n",
       "      <td>424967620.0</td>\n",
       "    </tr>\n",
       "    <tr>\n",
       "      <th>3</th>\n",
       "      <td>tt0063518</td>\n",
       "      <td>romeo and juliet</td>\n",
       "      <td>Drama,Romance</td>\n",
       "      <td>7.6</td>\n",
       "      <td>35297</td>\n",
       "      <td>1968</td>\n",
       "      <td>38901218.0</td>\n",
       "      <td>138.0</td>\n",
       "      <td>Italy, United Kingdom</td>\n",
       "      <td>best picture</td>\n",
       "      <td>1969</td>\n",
       "      <td>False</td>\n",
       "      <td>Franco Zeffirelli</td>\n",
       "      <td>nm0000636,nm0116663,nm0195148,nm0001874</td>\n",
       "      <td>38901218.0</td>\n",
       "    </tr>\n",
       "    <tr>\n",
       "      <th>4</th>\n",
       "      <td>tt0106977</td>\n",
       "      <td>the fugitive</td>\n",
       "      <td>Action,Crime,Drama</td>\n",
       "      <td>7.8</td>\n",
       "      <td>325928</td>\n",
       "      <td>1993</td>\n",
       "      <td>368875760.0</td>\n",
       "      <td>130.0</td>\n",
       "      <td>United States of America</td>\n",
       "      <td>best picture</td>\n",
       "      <td>1994</td>\n",
       "      <td>False</td>\n",
       "      <td>Andrew Davis</td>\n",
       "      <td>nm0835732,nm0878638,nm0400403</td>\n",
       "      <td>368875760.0</td>\n",
       "    </tr>\n",
       "    <tr>\n",
       "      <th>6</th>\n",
       "      <td>tt0783233</td>\n",
       "      <td>atonement</td>\n",
       "      <td>Drama,Mystery,Romance</td>\n",
       "      <td>7.8</td>\n",
       "      <td>305235</td>\n",
       "      <td>2007</td>\n",
       "      <td>129266061.0</td>\n",
       "      <td>122.0</td>\n",
       "      <td>France, United Kingdom</td>\n",
       "      <td>best picture</td>\n",
       "      <td>2008</td>\n",
       "      <td>False</td>\n",
       "      <td>Joe Wright</td>\n",
       "      <td>nm0568605,nm0358960</td>\n",
       "      <td>129266061.0</td>\n",
       "    </tr>\n",
       "    <tr>\n",
       "      <th>7</th>\n",
       "      <td>tt0068473</td>\n",
       "      <td>deliverance</td>\n",
       "      <td>Adventure,Drama,Thriller</td>\n",
       "      <td>7.7</td>\n",
       "      <td>121832</td>\n",
       "      <td>1972</td>\n",
       "      <td>46122355.0</td>\n",
       "      <td>110.0</td>\n",
       "      <td>United States of America</td>\n",
       "      <td>best picture</td>\n",
       "      <td>1973</td>\n",
       "      <td>False</td>\n",
       "      <td>John Boorman</td>\n",
       "      <td>nm0225463,nm0000958</td>\n",
       "      <td>46122355.0</td>\n",
       "    </tr>\n",
       "    <tr>\n",
       "      <th>...</th>\n",
       "      <td>...</td>\n",
       "      <td>...</td>\n",
       "      <td>...</td>\n",
       "      <td>...</td>\n",
       "      <td>...</td>\n",
       "      <td>...</td>\n",
       "      <td>...</td>\n",
       "      <td>...</td>\n",
       "      <td>...</td>\n",
       "      <td>...</td>\n",
       "      <td>...</td>\n",
       "      <td>...</td>\n",
       "      <td>...</td>\n",
       "      <td>...</td>\n",
       "      <td>...</td>\n",
       "    </tr>\n",
       "    <tr>\n",
       "      <th>278</th>\n",
       "      <td>tt1210166</td>\n",
       "      <td>moneyball</td>\n",
       "      <td>Biography,Drama,Sport</td>\n",
       "      <td>7.6</td>\n",
       "      <td>475303</td>\n",
       "      <td>2011</td>\n",
       "      <td>110206216.0</td>\n",
       "      <td>133.0</td>\n",
       "      <td>United States of America</td>\n",
       "      <td>best picture</td>\n",
       "      <td>2012</td>\n",
       "      <td>False</td>\n",
       "      <td>Bennett Miller</td>\n",
       "      <td>nm0001873,nm0815070,nm3133181,nm1034122</td>\n",
       "      <td>110206216.0</td>\n",
       "    </tr>\n",
       "    <tr>\n",
       "      <th>279</th>\n",
       "      <td>tt1375666</td>\n",
       "      <td>inception</td>\n",
       "      <td>Action,Adventure,Sci-Fi</td>\n",
       "      <td>8.8</td>\n",
       "      <td>2609684</td>\n",
       "      <td>2010</td>\n",
       "      <td>825532764.0</td>\n",
       "      <td>148.0</td>\n",
       "      <td>United States of America, United Kingdom</td>\n",
       "      <td>best picture</td>\n",
       "      <td>2011</td>\n",
       "      <td>False</td>\n",
       "      <td>Christopher Nolan</td>\n",
       "      <td>nm0634240</td>\n",
       "      <td>825532764.0</td>\n",
       "    </tr>\n",
       "    <tr>\n",
       "      <th>280</th>\n",
       "      <td>tt1285016</td>\n",
       "      <td>the social network</td>\n",
       "      <td>Biography,Drama</td>\n",
       "      <td>7.8</td>\n",
       "      <td>773872</td>\n",
       "      <td>2010</td>\n",
       "      <td>224920315.0</td>\n",
       "      <td>120.0</td>\n",
       "      <td>United States of America</td>\n",
       "      <td>best picture</td>\n",
       "      <td>2011</td>\n",
       "      <td>False</td>\n",
       "      <td>David Fincher</td>\n",
       "      <td>nm0815070,nm0583826</td>\n",
       "      <td>279426199.0</td>\n",
       "    </tr>\n",
       "    <tr>\n",
       "      <th>282</th>\n",
       "      <td>tt1542344</td>\n",
       "      <td>127 hours</td>\n",
       "      <td>Biography,Drama</td>\n",
       "      <td>7.5</td>\n",
       "      <td>407505</td>\n",
       "      <td>2010</td>\n",
       "      <td>61738797.0</td>\n",
       "      <td>90.0</td>\n",
       "      <td>United States of America, United Kingdom</td>\n",
       "      <td>best picture</td>\n",
       "      <td>2011</td>\n",
       "      <td>False</td>\n",
       "      <td>Danny Boyle</td>\n",
       "      <td>nm0000965,nm0064479,nm1737008</td>\n",
       "      <td>219824670.5</td>\n",
       "    </tr>\n",
       "    <tr>\n",
       "      <th>283</th>\n",
       "      <td>tt2125435</td>\n",
       "      <td>beasts of the southern wild</td>\n",
       "      <td>Adventure,Drama,Fantasy</td>\n",
       "      <td>7.2</td>\n",
       "      <td>85471</td>\n",
       "      <td>2012</td>\n",
       "      <td>11204347.0</td>\n",
       "      <td>92.0</td>\n",
       "      <td>United States of America</td>\n",
       "      <td>best picture</td>\n",
       "      <td>2013</td>\n",
       "      <td>False</td>\n",
       "      <td>Benh Zeitlin</td>\n",
       "      <td>nm3599054,nm1022455</td>\n",
       "      <td>11204347.0</td>\n",
       "    </tr>\n",
       "  </tbody>\n",
       "</table>\n",
       "<p>227 rows × 15 columns</p>\n",
       "</div>"
      ],
      "text/plain": [
       "        tconst                 primaryTitle               IMDB_genres  \\\n",
       "0    tt0101414         beauty and the beast  Animation,Family,Fantasy   \n",
       "3    tt0063518             romeo and juliet             Drama,Romance   \n",
       "4    tt0106977                 the fugitive        Action,Crime,Drama   \n",
       "6    tt0783233                    atonement     Drama,Mystery,Romance   \n",
       "7    tt0068473                  deliverance  Adventure,Drama,Thriller   \n",
       "..         ...                          ...                       ...   \n",
       "278  tt1210166                    moneyball     Biography,Drama,Sport   \n",
       "279  tt1375666                    inception   Action,Adventure,Sci-Fi   \n",
       "280  tt1285016           the social network           Biography,Drama   \n",
       "282  tt1542344                    127 hours           Biography,Drama   \n",
       "283  tt2125435  beasts of the southern wild   Adventure,Drama,Fantasy   \n",
       "\n",
       "     averageRating  numVotes  release      revenue  runtime  \\\n",
       "0              8.0    486035     1991  424967620.0     85.0   \n",
       "3              7.6     35297     1968   38901218.0    138.0   \n",
       "4              7.8    325928     1993  368875760.0    130.0   \n",
       "6              7.8    305235     2007  129266061.0    122.0   \n",
       "7              7.7    121832     1972   46122355.0    110.0   \n",
       "..             ...       ...      ...          ...      ...   \n",
       "278            7.6    475303     2011  110206216.0    133.0   \n",
       "279            8.8   2609684     2010  825532764.0    148.0   \n",
       "280            7.8    773872     2010  224920315.0    120.0   \n",
       "282            7.5    407505     2010   61738797.0     90.0   \n",
       "283            7.2     85471     2012   11204347.0     92.0   \n",
       "\n",
       "                                    countries oscar_category  oscar_year  \\\n",
       "0                    United States of America   best picture        1992   \n",
       "3                       Italy, United Kingdom   best picture        1969   \n",
       "4                    United States of America   best picture        1994   \n",
       "6                      France, United Kingdom   best picture        2008   \n",
       "7                    United States of America   best picture        1973   \n",
       "..                                        ...            ...         ...   \n",
       "278                  United States of America   best picture        2012   \n",
       "279  United States of America, United Kingdom   best picture        2011   \n",
       "280                  United States of America   best picture        2011   \n",
       "282  United States of America, United Kingdom   best picture        2011   \n",
       "283                  United States of America   best picture        2013   \n",
       "\n",
       "     winner          directors  \\\n",
       "0     False     Gary Trousdale   \n",
       "3     False  Franco Zeffirelli   \n",
       "4     False       Andrew Davis   \n",
       "6     False         Joe Wright   \n",
       "7     False       John Boorman   \n",
       "..      ...                ...   \n",
       "278   False     Bennett Miller   \n",
       "279   False  Christopher Nolan   \n",
       "280   False      David Fincher   \n",
       "282   False        Danny Boyle   \n",
       "283   False       Benh Zeitlin   \n",
       "\n",
       "                                               writers  profile score  \n",
       "0    nm0941314,nm0152312,nm0761498,nm0560329,nm0363...    424967620.0  \n",
       "3              nm0000636,nm0116663,nm0195148,nm0001874     38901218.0  \n",
       "4                        nm0835732,nm0878638,nm0400403    368875760.0  \n",
       "6                                  nm0568605,nm0358960    129266061.0  \n",
       "7                                  nm0225463,nm0000958     46122355.0  \n",
       "..                                                 ...            ...  \n",
       "278            nm0001873,nm0815070,nm3133181,nm1034122    110206216.0  \n",
       "279                                          nm0634240    825532764.0  \n",
       "280                                nm0815070,nm0583826    279426199.0  \n",
       "282                      nm0000965,nm0064479,nm1737008    219824670.5  \n",
       "283                                nm3599054,nm1022455     11204347.0  \n",
       "\n",
       "[227 rows x 15 columns]"
      ]
     },
     "execution_count": 34,
     "metadata": {},
     "output_type": "execute_result"
    }
   ],
   "source": [
    "first_year, last_year, director_revenue_year = q3.compute_profile_score(df_Q3)\n",
    "\n",
    "scores = []\n",
    "\n",
    "directors = df_Q3['directors'].values\n",
    "years = df_Q3['release'].values\n",
    "\n",
    "for i in range(len(directors)):\n",
    "    scores.append(director_revenue_year[years[i]][directors[i]])\n",
    "\n",
    "df_Q3['profile score'] = scores\n",
    "\n",
    "df_Q3"
   ]
  },
  {
   "cell_type": "markdown",
   "metadata": {},
   "source": [
    "### Actors\n",
    "\n",
    "Let's also take a quick look at the most popular actors using the same metrics"
   ]
  },
  {
   "cell_type": "code",
   "execution_count": null,
   "metadata": {},
   "outputs": [
    {
     "data": {
      "image/png": "[encoded data removed]",
      "text/plain": [
       "<Figure size 640x480 with 1 Axes>"
      ]
     },
     "metadata": {},
     "output_type": "display_data"
    }
   ],
   "source": [
    "\n",
    "q3.plot_top_actors(df_actor, 10)"
   ]
  },
  {
   "cell_type": "code",
   "execution_count": null,
   "metadata": {},
   "outputs": [
    {
     "data": {
      "image/png": "[encoded data removed]",
      "text/plain": [
       "<Figure size 640x480 with 1 Axes>"
      ]
     },
     "metadata": {},
     "output_type": "display_data"
    }
   ],
   "source": [
    "\n",
    "q3.count_won_oscar_actor(df_actor, 10)"
   ]
  },
  {
   "cell_type": "markdown",
   "metadata": {},
   "source": [
    "### Directors"
   ]
  },
  {
   "cell_type": "code",
   "execution_count": null,
   "metadata": {},
   "outputs": [
    {
     "data": {
      "application/vnd.plotly.v1+json": {
       "config": {
        "plotlyServerURL": "https://plot.ly"
       },
       "data": [
        {
         "marker": {
          "color": "skyblue",
          "line": {
           "color": "black",
           "width": 1
          }
         },
         "type": "bar",
         "x": [
          "Billy Wilder",
          "George Cukor"
         ],
         "y": [
          5000000,
          4613000
         ]
        }
       ],
       "layout": {
        "template": {
         "data": {
          "bar": [
           {
            "error_x": {
             "color": "#2a3f5f"
            },
            "error_y": {
             "color": "#2a3f5f"
            },
            "marker": {
             "line": {
              "color": "#E5ECF6",
              "width": 0.5
             },
             "pattern": {
              "fillmode": "overlay",
              "size": 10,
              "solidity": 0.2
             }
            },
            "type": "bar"
           }
          ],
          "barpolar": [
           {
            "marker": {
             "line": {
              "color": "#E5ECF6",
              "width": 0.5
             },
             "pattern": {
              "fillmode": "overlay",
              "size": 10,
              "solidity": 0.2
             }
            },
            "type": "barpolar"
           }
          ],
          "carpet": [
           {
            "aaxis": {
             "endlinecolor": "#2a3f5f",
             "gridcolor": "white",
             "linecolor": "white",
             "minorgridcolor": "white",
             "startlinecolor": "#2a3f5f"
            },
            "baxis": {
             "endlinecolor": "#2a3f5f",
             "gridcolor": "white",
             "linecolor": "white",
             "minorgridcolor": "white",
             "startlinecolor": "#2a3f5f"
            },
            "type": "carpet"
           }
          ],
          "choropleth": [
           {
            "colorbar": {
             "outlinewidth": 0,
             "ticks": ""
            },
            "type": "choropleth"
           }
          ],
          "contour": [
           {
            "colorbar": {
             "outlinewidth": 0,
             "ticks": ""
            },
            "colorscale": [
             [
              0,
              "#0d0887"
             ],
             [
              0.1111111111111111,
              "#46039f"
             ],
             [
              0.2222222222222222,
              "#7201a8"
             ],
             [
              0.3333333333333333,
              "#9c179e"
             ],
             [
              0.4444444444444444,
              "#bd3786"
             ],
             [
              0.5555555555555556,
              "#d8576b"
             ],
             [
              0.6666666666666666,
              "#ed7953"
             ],
             [
              0.7777777777777778,
              "#fb9f3a"
             ],
             [
              0.8888888888888888,
              "#fdca26"
             ],
             [
              1,
              "#f0f921"
             ]
            ],
            "type": "contour"
           }
          ],
          "contourcarpet": [
           {
            "colorbar": {
             "outlinewidth": 0,
             "ticks": ""
            },
            "type": "contourcarpet"
           }
          ],
          "heatmap": [
           {
            "colorbar": {
             "outlinewidth": 0,
             "ticks": ""
            },
            "colorscale": [
             [
              0,
              "#0d0887"
             ],
             [
              0.1111111111111111,
              "#46039f"
             ],
             [
              0.2222222222222222,
              "#7201a8"
             ],
             [
              0.3333333333333333,
              "#9c179e"
             ],
             [
              0.4444444444444444,
              "#bd3786"
             ],
             [
              0.5555555555555556,
              "#d8576b"
             ],
             [
              0.6666666666666666,
              "#ed7953"
             ],
             [
              0.7777777777777778,
              "#fb9f3a"
             ],
             [
              0.8888888888888888,
              "#fdca26"
             ],
             [
              1,
              "#f0f921"
             ]
            ],
            "type": "heatmap"
           }
          ],
          "heatmapgl": [
           {
            "colorbar": {
             "outlinewidth": 0,
             "ticks": ""
            },
            "colorscale": [
             [
              0,
              "#0d0887"
             ],
             [
              0.1111111111111111,
              "#46039f"
             ],
             [
              0.2222222222222222,
              "#7201a8"
             ],
             [
              0.3333333333333333,
              "#9c179e"
             ],
             [
              0.4444444444444444,
              "#bd3786"
             ],
             [
              0.5555555555555556,
              "#d8576b"
             ],
             [
              0.6666666666666666,
              "#ed7953"
             ],
             [
              0.7777777777777778,
              "#fb9f3a"
             ],
             [
              0.8888888888888888,
              "#fdca26"
             ],
             [
              1,
              "#f0f921"
             ]
            ],
            "type": "heatmapgl"
           }
          ],
          "histogram": [
           {
            "marker": {
             "pattern": {
              "fillmode": "overlay",
              "size": 10,
              "solidity": 0.2
             }
            },
            "type": "histogram"
           }
          ],
          "histogram2d": [
           {
            "colorbar": {
             "outlinewidth": 0,
             "ticks": ""
            },
            "colorscale": [
             [
              0,
              "#0d0887"
             ],
             [
              0.1111111111111111,
              "#46039f"
             ],
             [
              0.2222222222222222,
              "#7201a8"
             ],
             [
              0.3333333333333333,
              "#9c179e"
             ],
             [
              0.4444444444444444,
              "#bd3786"
             ],
             [
              0.5555555555555556,
              "#d8576b"
             ],
             [
              0.6666666666666666,
              "#ed7953"
             ],
             [
              0.7777777777777778,
              "#fb9f3a"
             ],
             [
              0.8888888888888888,
              "#fdca26"
             ],
             [
              1,
              "#f0f921"
             ]
            ],
            "type": "histogram2d"
           }
          ],
          "histogram2dcontour": [
           {
            "colorbar": {
             "outlinewidth": 0,
             "ticks": ""
            },
            "colorscale": [
             [
              0,
              "#0d0887"
             ],
             [
              0.1111111111111111,
              "#46039f"
             ],
             [
              0.2222222222222222,
              "#7201a8"
             ],
             [
              0.3333333333333333,
              "#9c179e"
             ],
             [
              0.4444444444444444,
              "#bd3786"
             ],
             [
              0.5555555555555556,
              "#d8576b"
             ],
             [
              0.6666666666666666,
              "#ed7953"
             ],
             [
              0.7777777777777778,
              "#fb9f3a"
             ],
             [
              0.8888888888888888,
              "#fdca26"
             ],
             [
              1,
              "#f0f921"
             ]
            ],
            "type": "histogram2dcontour"
           }
          ],
          "mesh3d": [
           {
            "colorbar": {
             "outlinewidth": 0,
             "ticks": ""
            },
            "type": "mesh3d"
           }
          ],
          "parcoords": [
           {
            "line": {
             "colorbar": {
              "outlinewidth": 0,
              "ticks": ""
             }
            },
            "type": "parcoords"
           }
          ],
          "pie": [
           {
            "automargin": true,
            "type": "pie"
           }
          ],
          "scatter": [
           {
            "fillpattern": {
             "fillmode": "overlay",
             "size": 10,
             "solidity": 0.2
            },
            "type": "scatter"
           }
          ],
          "scatter3d": [
           {
            "line": {
             "colorbar": {
              "outlinewidth": 0,
              "ticks": ""
             }
            },
            "marker": {
             "colorbar": {
              "outlinewidth": 0,
              "ticks": ""
             }
            },
            "type": "scatter3d"
           }
          ],
          "scattercarpet": [
           {
            "marker": {
             "colorbar": {
              "outlinewidth": 0,
              "ticks": ""
             }
            },
            "type": "scattercarpet"
           }
          ],
          "scattergeo": [
           {
            "marker": {
             "colorbar": {
              "outlinewidth": 0,
              "ticks": ""
             }
            },
            "type": "scattergeo"
           }
          ],
          "scattergl": [
           {
            "marker": {
             "colorbar": {
              "outlinewidth": 0,
              "ticks": ""
             }
            },
            "type": "scattergl"
           }
          ],
          "scattermapbox": [
           {
            "marker": {
             "colorbar": {
              "outlinewidth": 0,
              "ticks": ""
             }
            },
            "type": "scattermapbox"
           }
          ],
          "scatterpolar": [
           {
            "marker": {
             "colorbar": {
              "outlinewidth": 0,
              "ticks": ""
             }
            },
            "type": "scatterpolar"
           }
          ],
          "scatterpolargl": [
           {
            "marker": {
             "colorbar": {
              "outlinewidth": 0,
              "ticks": ""
             }
            },
            "type": "scatterpolargl"
           }
          ],
          "scatterternary": [
           {
            "marker": {
             "colorbar": {
              "outlinewidth": 0,
              "ticks": ""
             }
            },
            "type": "scatterternary"
           }
          ],
          "surface": [
           {
            "colorbar": {
             "outlinewidth": 0,
             "ticks": ""
            },
            "colorscale": [
             [
              0,
              "#0d0887"
             ],
             [
              0.1111111111111111,
              "#46039f"
             ],
             [
              0.2222222222222222,
              "#7201a8"
             ],
             [
              0.3333333333333333,
              "#9c179e"
             ],
             [
              0.4444444444444444,
              "#bd3786"
             ],
             [
              0.5555555555555556,
              "#d8576b"
             ],
             [
              0.6666666666666666,
              "#ed7953"
             ],
             [
              0.7777777777777778,
              "#fb9f3a"
             ],
             [
              0.8888888888888888,
              "#fdca26"
             ],
             [
              1,
              "#f0f921"
             ]
            ],
            "type": "surface"
           }
          ],
          "table": [
           {
            "cells": {
             "fill": {
              "color": "#EBF0F8"
             },
             "line": {
              "color": "white"
             }
            },
            "header": {
             "fill": {
              "color": "#C8D4E3"
             },
             "line": {
              "color": "white"
             }
            },
            "type": "table"
           }
          ]
         },
         "layout": {
          "annotationdefaults": {
           "arrowcolor": "#2a3f5f",
           "arrowhead": 0,
           "arrowwidth": 1
          },
          "autotypenumbers": "strict",
          "coloraxis": {
           "colorbar": {
            "outlinewidth": 0,
            "ticks": ""
           }
          },
          "colorscale": {
           "diverging": [
            [
             0,
             "#8e0152"
            ],
            [
             0.1,
             "#c51b7d"
            ],
            [
             0.2,
             "#de77ae"
            ],
            [
             0.3,
             "#f1b6da"
            ],
            [
             0.4,
             "#fde0ef"
            ],
            [
             0.5,
             "#f7f7f7"
            ],
            [
             0.6,
             "#e6f5d0"
            ],
            [
             0.7,
             "#b8e186"
            ],
            [
             0.8,
             "#7fbc41"
            ],
            [
             0.9,
             "#4d9221"
            ],
            [
             1,
             "#276419"
            ]
           ],
           "sequential": [
            [
             0,
             "#0d0887"
            ],
            [
             0.1111111111111111,
             "#46039f"
            ],
            [
             0.2222222222222222,
             "#7201a8"
            ],
            [
             0.3333333333333333,
             "#9c179e"
            ],
            [
             0.4444444444444444,
             "#bd3786"
            ],
            [
             0.5555555555555556,
             "#d8576b"
            ],
            [
             0.6666666666666666,
             "#ed7953"
            ],
            [
             0.7777777777777778,
             "#fb9f3a"
            ],
            [
             0.8888888888888888,
             "#fdca26"
            ],
            [
             1,
             "#f0f921"
            ]
           ],
           "sequentialminus": [
            [
             0,
             "#0d0887"
            ],
            [
             0.1111111111111111,
             "#46039f"
            ],
            [
             0.2222222222222222,
             "#7201a8"
            ],
            [
             0.3333333333333333,
             "#9c179e"
            ],
            [
             0.4444444444444444,
             "#bd3786"
            ],
            [
             0.5555555555555556,
             "#d8576b"
            ],
            [
             0.6666666666666666,
             "#ed7953"
            ],
            [
             0.7777777777777778,
             "#fb9f3a"
            ],
            [
             0.8888888888888888,
             "#fdca26"
            ],
            [
             1,
             "#f0f921"
            ]
           ]
          },
          "colorway": [
           "#636efa",
           "#EF553B",
           "#00cc96",
           "#ab63fa",
           "#FFA15A",
           "#19d3f3",
           "#FF6692",
           "#B6E880",
           "#FF97FF",
           "#FECB52"
          ],
          "font": {
           "color": "#2a3f5f"
          },
          "geo": {
           "bgcolor": "white",
           "lakecolor": "white",
           "landcolor": "#E5ECF6",
           "showlakes": true,
           "showland": true,
           "subunitcolor": "white"
          },
          "hoverlabel": {
           "align": "left"
          },
          "hovermode": "closest",
          "mapbox": {
           "style": "light"
          },
          "paper_bgcolor": "white",
          "plot_bgcolor": "#E5ECF6",
          "polar": {
           "angularaxis": {
            "gridcolor": "white",
            "linecolor": "white",
            "ticks": ""
           },
           "bgcolor": "#E5ECF6",
           "radialaxis": {
            "gridcolor": "white",
            "linecolor": "white",
            "ticks": ""
           }
          },
          "scene": {
           "xaxis": {
            "backgroundcolor": "#E5ECF6",
            "gridcolor": "white",
            "gridwidth": 2,
            "linecolor": "white",
            "showbackground": true,
            "ticks": "",
            "zerolinecolor": "white"
           },
           "yaxis": {
            "backgroundcolor": "#E5ECF6",
            "gridcolor": "white",
            "gridwidth": 2,
            "linecolor": "white",
            "showbackground": true,
            "ticks": "",
            "zerolinecolor": "white"
           },
           "zaxis": {
            "backgroundcolor": "#E5ECF6",
            "gridcolor": "white",
            "gridwidth": 2,
            "linecolor": "white",
            "showbackground": true,
            "ticks": "",
            "zerolinecolor": "white"
           }
          },
          "shapedefaults": {
           "line": {
            "color": "#2a3f5f"
           }
          },
          "ternary": {
           "aaxis": {
            "gridcolor": "white",
            "linecolor": "white",
            "ticks": ""
           },
           "baxis": {
            "gridcolor": "white",
            "linecolor": "white",
            "ticks": ""
           },
           "bgcolor": "#E5ECF6",
           "caxis": {
            "gridcolor": "white",
            "linecolor": "white",
            "ticks": ""
           }
          },
          "title": {
           "x": 0.05
          },
          "xaxis": {
           "automargin": true,
           "gridcolor": "white",
           "linecolor": "white",
           "ticks": "",
           "title": {
            "standoff": 15
           },
           "zerolinecolor": "white",
           "zerolinewidth": 2
          },
          "yaxis": {
           "automargin": true,
           "gridcolor": "white",
           "linecolor": "white",
           "ticks": "",
           "title": {
            "standoff": 15
           },
           "zerolinecolor": "white",
           "zerolinewidth": 2
          }
         }
        },
        "title": {
         "text": "Top 10 Directors in 1944"
        },
        "updatemenus": [
         {
          "buttons": [
           {
            "args": [
             {
              "x": [
               [
                "Billy Wilder",
                "George Cukor"
               ]
              ],
              "y": [
               [
                5000000,
                4613000
               ]
              ]
             },
             {
              "title": "Top 10 Directors in 1944"
             }
            ],
            "label": "1944",
            "method": "update"
           },
           {
            "args": [
             {
              "x": [
               [
                "Leo McCarey",
                "Alfred Hitchcock",
                "Billy Wilder",
                "George Cukor"
               ]
              ],
              "y": [
               [
                21333333,
                7000000,
                5000000,
                4613000
               ]
              ]
             },
             {
              "title": "Top 10 Directors in 1945"
             }
            ],
            "label": "1945",
            "method": "update"
           },
           {
            "args": [
             {
              "x": [
               [
                "William Wyler",
                "Leo McCarey",
                "Alfred Hitchcock",
                "Billy Wilder",
                "George Cukor",
                "Frank Capra"
               ]
              ],
              "y": [
               [
                23650000,
                21333333,
                7000000,
                5000000,
                4613000,
                3300000
               ]
              ]
             },
             {
              "title": "Top 10 Directors in 1946"
             }
            ],
            "label": "1946",
            "method": "update"
           },
           {
            "args": [
             {
              "x": [
               [
                "William Wyler",
                "Leo McCarey",
                "Alfred Hitchcock",
                "Billy Wilder",
                "George Cukor",
                "Frank Capra",
                "George Seaton"
               ]
              ],
              "y": [
               [
                23650000,
                21333333,
                7000000,
                5000000,
                4613000,
                3300000,
                3150000
               ]
              ]
             },
             {
              "title": "Top 10 Directors in 1947"
             }
            ],
            "label": "1947",
            "method": "update"
           },
           {
            "args": [
             {
              "x": [
               [
                "William Wyler",
                "Leo McCarey",
                "Alfred Hitchcock",
                "Billy Wilder",
                "George Cukor",
                "Frank Capra",
                "George Seaton"
               ]
              ],
              "y": [
               [
                23650000,
                21333333,
                7000000,
                5000000,
                4613000,
                3300000,
                3150000
               ]
              ]
             },
             {
              "title": "Top 10 Directors in 1948"
             }
            ],
            "label": "1948",
            "method": "update"
           },
           {
            "args": [
             {
              "x": [
               [
                "Leo McCarey",
                "William Wyler",
                "Alfred Hitchcock",
                "Billy Wilder",
                "William A. Wellman",
                "George Cukor",
                "Frank Capra",
                "Henry King",
                "George Seaton"
               ]
              ],
              "y": [
               [
                21333333,
                12975000,
                7000000,
                5000000,
                4700000,
                4613000,
                3300000,
                3225000,
                3150000
               ]
              ]
             },
             {
              "title": "Top 10 Directors in 1949"
             }
            ],
            "label": "1949",
            "method": "update"
           },
           {
            "args": [
             {
              "x": [
               [
                "Leo McCarey",
                "William Wyler",
                "Compton Bennett",
                "Alfred Hitchcock",
                "Billy Wilder",
                "William A. Wellman",
                "George Cukor",
                "Vincente Minnelli",
                "Frank Capra",
                "Henry King"
               ]
              ],
              "y": [
               [
                21333333,
                12975000,
                10050000,
                7000000,
                5000000,
                4700000,
                4381500,
                4150000,
                3300000,
                3225000
               ]
              ]
             },
             {
              "title": "Top 10 Directors in 1950"
             }
            ],
            "label": "1950",
            "method": "update"
           },
           {
            "args": [
             {
              "x": [
               [
                "Leo McCarey",
                "William Wyler",
                "Mervyn LeRoy",
                "Compton Bennett",
                "Elia Kazan",
                "Alfred Hitchcock",
                "George Stevens",
                "Billy Wilder",
                "William A. Wellman",
                "George Cukor"
               ]
              ],
              "y": [
               [
                21333333,
                12975000,
                10500000,
                10050000,
                8000000,
                7000000,
                7000000,
                5000000,
                4700000,
                4381500
               ]
              ]
             },
             {
              "title": "Top 10 Directors in 1951"
             }
            ],
            "label": "1951",
            "method": "update"
           },
           {
            "args": [
             {
              "x": [
               [
                "Leo McCarey",
                "William Wyler",
                "Cecil B. DeMille",
                "Mervyn LeRoy",
                "Compton Bennett",
                "Elia Kazan",
                "Fred Zinnemann",
                "Alfred Hitchcock",
                "George Stevens",
                "Billy Wilder"
               ]
              ],
              "y": [
               [
                21333333,
                12975000,
                12000000,
                10500000,
                10050000,
                8000000,
                8000000,
                7000000,
                7000000,
                5000000
               ]
              ]
             },
             {
              "title": "Top 10 Directors in 1952"
             }
            ],
            "label": "1952",
            "method": "update"
           },
           {
            "args": [
             {
              "x": [
               [
                "Henry Koster",
                "Leo McCarey",
                "Fred Zinnemann",
                "George Stevens",
                "William Wyler",
                "Cecil B. DeMille",
                "Mervyn LeRoy",
                "Compton Bennett",
                "Elia Kazan",
                "Alfred Hitchcock"
               ]
              ],
              "y": [
               [
                36000000,
                21333333,
                19250000,
                13500000,
                12650000,
                12000000,
                10500000,
                10050000,
                8000000,
                7000000
               ]
              ]
             },
             {
              "title": "Top 10 Directors in 1953"
             }
            ],
            "label": "1953",
            "method": "update"
           },
           {
            "args": [
             {
              "x": [
               [
                "Henry Koster",
                "Leo McCarey",
                "Fred Zinnemann",
                "George Stevens",
                "William Wyler",
                "Cecil B. DeMille",
                "Mervyn LeRoy",
                "Compton Bennett",
                "Elia Kazan",
                "Edward Dmytryk"
               ]
              ],
              "y": [
               [
                36000000,
                21333333,
                19250000,
                13500000,
                12650000,
                12000000,
                10500000,
                10050000,
                8800000,
                8700000
               ]
              ]
             },
             {
              "title": "Top 10 Directors in 1954"
             }
            ],
            "label": "1954",
            "method": "update"
           },
           {
            "args": [
             {
              "x": [
               [
                "Henry Koster",
                "Leo McCarey",
                "Fred Zinnemann",
                "George Stevens",
                "William Wyler",
                "Cecil B. DeMille",
                "Mervyn LeRoy",
                "Compton Bennett",
                "Elia Kazan",
                "Edward Dmytryk"
               ]
              ],
              "y": [
               [
                36000000,
                21333333,
                19250000,
                13500000,
                12650000,
                12000000,
                10500000,
                10050000,
                8800000,
                8700000
               ]
              ]
             },
             {
              "title": "Top 10 Directors in 1955"
             }
            ],
            "label": "1955",
            "method": "update"
           },
           {
            "args": [
             {
              "x": [
               [
                "Cecil B. DeMille",
                "Henry Koster",
                "Leo McCarey",
                "George Stevens",
                "Fred Zinnemann",
                "William Wyler",
                "Mervyn LeRoy",
                "Compton Bennett",
                "Elia Kazan",
                "Edward Dmytryk"
               ]
              ],
              "y": [
               [
                46000000,
                36000000,
                21333333,
                20666666.666666668,
                19250000,
                12650000,
                10500000,
                10050000,
                8800000,
                8700000
               ]
              ]
             },
             {
              "title": "Top 10 Directors in 1956"
             }
            ],
            "label": "1956",
            "method": "update"
           },
           {
            "args": [
             {
              "x": [
               [
                "Cecil B. DeMille",
                "Henry Koster",
                "Joshua Logan",
                "Leo McCarey",
                "George Stevens",
                "Fred Zinnemann",
                "William Wyler",
                "Mervyn LeRoy",
                "Compton Bennett",
                "Elia Kazan"
               ]
              ],
              "y": [
               [
                46000000,
                36000000,
                22000115,
                21333333,
                20666666.666666668,
                19250000,
                12650000,
                10500000,
                10050000,
                8800000
               ]
              ]
             },
             {
              "title": "Top 10 Directors in 1957"
             }
            ],
            "label": "1957",
            "method": "update"
           },
           {
            "args": [
             {
              "x": [
               [
                "Cecil B. DeMille",
                "Henry Koster",
                "Joshua Logan",
                "Leo McCarey",
                "George Stevens",
                "Fred Zinnemann",
                "William Wyler",
                "Mervyn LeRoy",
                "Compton Bennett",
                "Elia Kazan"
               ]
              ],
              "y": [
               [
                46000000,
                36000000,
                22000115,
                21333333,
                20666666.666666668,
                19250000,
                12650000,
                10500000,
                10050000,
                8800000
               ]
              ]
             },
             {
              "title": "Top 10 Directors in 1958"
             }
            ],
            "label": "1958",
            "method": "update"
           },
           {
            "args": [
             {
              "x": [
               [
                "Cecil B. DeMille",
                "Henry Koster",
                "Joshua Logan",
                "Leo McCarey",
                "George Stevens",
                "Fred Zinnemann",
                "William Wyler",
                "Otto Preminger",
                "Mervyn LeRoy",
                "Compton Bennett"
               ]
              ],
              "y": [
               [
                46000000,
                36000000,
                22000115,
                21333333,
                20666666.666666668,
                19250000,
                12650000,
                11000000,
                10500000,
                10050000
               ]
              ]
             },
             {
              "title": "Top 10 Directors in 1959"
             }
            ],
            "label": "1959",
            "method": "update"
           },
           {
            "args": [
             {
              "x": [
               [
                "Cecil B. DeMille",
                "Henry Koster",
                "Joshua Logan",
                "Leo McCarey",
                "George Stevens",
                "Fred Zinnemann",
                "Billy Wilder",
                "William Wyler",
                "Otto Preminger",
                "Mervyn LeRoy"
               ]
              ],
              "y": [
               [
                46000000,
                36000000,
                22000115,
                21333333,
                20666666.666666668,
                19250000,
                14800000,
                12650000,
                11000000,
                10500000
               ]
              ]
             },
             {
              "title": "Top 10 Directors in 1960"
             }
            ],
            "label": "1960",
            "method": "update"
           },
           {
            "args": [
             {
              "x": [
               [
                "Cecil B. DeMille",
                "Jerome Robbins",
                "Henry Koster",
                "Joshua Logan",
                "Leo McCarey",
                "George Stevens",
                "Fred Zinnemann",
                "Billy Wilder",
                "William Wyler",
                "Otto Preminger"
               ]
              ],
              "y": [
               [
                46000000,
                43700000,
                36000000,
                22000115,
                21333333,
                20666666.666666668,
                19250000,
                14800000,
                12650000,
                11000000
               ]
              ]
             },
             {
              "title": "Top 10 Directors in 1961"
             }
            ],
            "label": "1961",
            "method": "update"
           },
           {
            "args": [
             {
              "x": [
               [
                "Ken Annakin",
                "Cecil B. DeMille",
                "Jerome Robbins",
                "Henry Koster",
                "Joshua Logan",
                "Leo McCarey",
                "George Stevens",
                "Robert Mulligan",
                "Fred Zinnemann",
                "Billy Wilder"
               ]
              ],
              "y": [
               [
                50000000,
                46000000,
                43700000,
                36000000,
                22000115,
                21333333,
                20666666.666666668,
                20629846,
                19250000,
                14800000
               ]
              ]
             },
             {
              "title": "Top 10 Directors in 1962"
             }
            ],
            "label": "1962",
            "method": "update"
           },
           {
            "args": [
             {
              "x": [
               [
                "Ken Annakin",
                "Cecil B. DeMille",
                "Jerome Robbins",
                "Henry Koster",
                "Joshua Logan",
                "Leo McCarey",
                "George Stevens",
                "Robert Mulligan",
                "Fred Zinnemann",
                "Billy Wilder"
               ]
              ],
              "y": [
               [
                50000000,
                46000000,
                43700000,
                36000000,
                22000115,
                21333333,
                20666666.666666668,
                20629846,
                19250000,
                14800000
               ]
              ]
             },
             {
              "title": "Top 10 Directors in 1963"
             }
            ],
            "label": "1963",
            "method": "update"
           },
           {
            "args": [
             {
              "x": [
               [
                "Robert Stevenson",
                "Ken Annakin",
                "Cecil B. DeMille",
                "Jerome Robbins",
                "Henry Koster",
                "George Cukor",
                "Joshua Logan",
                "Leo McCarey",
                "George Stevens",
                "Robert Mulligan"
               ]
              ],
              "y": [
               [
                102272727,
                50000000,
                46000000,
                43700000,
                36000000,
                26921000,
                22000115,
                21333333,
                20666666.666666668,
                20629846
               ]
              ]
             },
             {
              "title": "Top 10 Directors in 1964"
             }
            ],
            "label": "1964",
            "method": "update"
           },
           {
            "args": [
             {
              "x": [
               [
                "Robert Wise",
                "David Lean",
                "Robert Stevenson",
                "Ken Annakin",
                "Cecil B. DeMille",
                "Jerome Robbins",
                "Henry Koster",
                "George Cukor",
                "Joshua Logan",
                "Leo McCarey"
               ]
              ],
              "y": [
               [
                286214286,
                111721910,
                102272727,
                50000000,
                46000000,
                43700000,
                36000000,
                26921000,
                22000115,
                21333333
               ]
              ]
             },
             {
              "title": "Top 10 Directors in 1965"
             }
            ],
            "label": "1965",
            "method": "update"
           },
           {
            "args": [
             {
              "x": [
               [
                "Robert Wise",
                "David Lean",
                "Robert Stevenson",
                "Ken Annakin",
                "Cecil B. DeMille",
                "Jerome Robbins",
                "Mike Nichols",
                "Henry Koster",
                "George Cukor",
                "Joshua Logan"
               ]
              ],
              "y": [
               [
                286214286,
                111721910,
                102272727,
                50000000,
                46000000,
                43700000,
                40000000,
                36000000,
                26921000,
                22000115
               ]
              ]
             },
             {
              "title": "Top 10 Directors in 1966"
             }
            ],
            "label": "1966",
            "method": "update"
           },
           {
            "args": [
             {
              "x": [
               [
                "Robert Wise",
                "David Lean",
                "Robert Stevenson",
                "Mike Nichols",
                "Stanley Kramer",
                "Arthur Penn",
                "Ken Annakin",
                "Cecil B. DeMille",
                "Jerome Robbins",
                "Henry Koster"
               ]
              ],
              "y": [
               [
                286214286,
                111721910,
                102272727,
                72450919.5,
                56666667,
                50700000,
                50000000,
                46000000,
                43700000,
                36000000
               ]
              ]
             },
             {
              "title": "Top 10 Directors in 1967"
             }
            ],
            "label": "1967",
            "method": "update"
           },
           {
            "args": [
             {
              "x": [
               [
                "Robert Wise",
                "David Lean",
                "Robert Stevenson",
                "Carol Reed",
                "Mike Nichols",
                "Stanley Kramer",
                "Arthur Penn",
                "Ken Annakin",
                "Cecil B. DeMille",
                "Jerome Robbins"
               ]
              ],
              "y": [
               [
                286214286,
                111721910,
                102272727,
                77402877,
                72450919.5,
                56666667,
                50700000,
                50000000,
                46000000,
                43700000
               ]
              ]
             },
             {
              "title": "Top 10 Directors in 1968"
             }
            ],
            "label": "1968",
            "method": "update"
           },
           {
            "args": [
             {
              "x": [
               [
                "Robert Wise",
                "David Lean",
                "George Roy Hill",
                "Robert Stevenson",
                "Carol Reed",
                "Mike Nichols",
                "Stanley Kramer",
                "Arthur Penn",
                "Ken Annakin",
                "Cecil B. DeMille"
               ]
              ],
              "y": [
               [
                286214286,
                111721910,
                102308889,
                102272727,
                77402877,
                72450919.5,
                56666667,
                50700000,
                50000000,
                46000000
               ]
              ]
             },
             {
              "title": "Top 10 Directors in 1969"
             }
            ],
            "label": "1969",
            "method": "update"
           },
           {
            "args": [
             {
              "x": [
               [
                "Robert Wise",
                "Arthur Hiller",
                "David Lean",
                "George Roy Hill",
                "Robert Stevenson",
                "Carol Reed",
                "Mike Nichols",
                "Franklin J. Schaffner",
                "Stanley Kramer",
                "Arthur Penn"
               ]
              ],
              "y": [
               [
                286214286,
                136397186,
                111721910,
                102308889,
                102272727,
                77402877,
                72450919.5,
                61749765,
                56666667,
                50700000
               ]
              ]
             },
             {
              "title": "Top 10 Directors in 1970"
             }
            ],
            "label": "1970",
            "method": "update"
           },
           {
            "args": [
             {
              "x": [
               [
                "Robert Wise",
                "Arthur Hiller",
                "David Lean",
                "George Roy Hill",
                "Robert Stevenson",
                "Carol Reed",
                "Mike Nichols",
                "Franklin J. Schaffner",
                "Stanley Kramer",
                "William Friedkin"
               ]
              ],
              "y": [
               [
                286214286,
                136397186,
                111721910,
                102308889,
                102272727,
                77402877,
                72450919.5,
                61749765,
                56666667,
                51700000
               ]
              ]
             },
             {
              "title": "Top 10 Directors in 1971"
             }
            ],
            "label": "1971",
            "method": "update"
           },
           {
            "args": [
             {
              "x": [
               [
                "Robert Wise",
                "Francis Ford Coppola",
                "Arthur Hiller",
                "David Lean",
                "George Roy Hill",
                "Robert Stevenson",
                "Carol Reed",
                "Mike Nichols",
                "Franklin J. Schaffner",
                "Stanley Kramer"
               ]
              ],
              "y": [
               [
                286214286,
                268500000,
                136397186,
                111721910,
                102308889,
                102272727,
                77402877,
                72450919.5,
                61749765,
                56666667
               ]
              ]
             },
             {
              "title": "Top 10 Directors in 1972"
             }
            ],
            "label": "1972",
            "method": "update"
           },
           {
            "args": [
             {
              "x": [
               [
                "Robert Wise",
                "Francis Ford Coppola",
                "William Friedkin",
                "George Lucas",
                "Arthur Hiller",
                "George Roy Hill",
                "David Lean",
                "Robert Stevenson",
                "Carol Reed",
                "Mike Nichols"
               ]
              ],
              "y": [
               [
                286214286,
                268500000,
                246385505.5,
                140000000,
                136397186,
                130962608,
                111721910,
                102272727,
                77402877,
                72450919.5
               ]
              ]
             },
             {
              "title": "Top 10 Directors in 1973"
             }
            ],
            "label": "1973",
            "method": "update"
           },
           {
            "args": [
             {
              "x": [
               [
                "Robert Wise",
                "William Friedkin",
                "Francis Ford Coppola",
                "George Lucas",
                "John Guillermin",
                "Arthur Hiller",
                "George Roy Hill",
                "David Lean",
                "Robert Stevenson",
                "Carol Reed"
               ]
              ],
              "y": [
               [
                286214286,
                246385505.5,
                155306666.66666666,
                140000000,
                139700000,
                136397186,
                130962608,
                111721910,
                102272727,
                77402877
               ]
              ]
             },
             {
              "title": "Top 10 Directors in 1974"
             }
            ],
            "label": "1974",
            "method": "update"
           },
           {
            "args": [
             {
              "x": [
               [
                "Robert Wise",
                "William Friedkin",
                "Francis Ford Coppola",
                "George Lucas",
                "John Guillermin",
                "Arthur Hiller",
                "George Roy Hill",
                "David Lean",
                "Milos Forman",
                "Robert Stevenson"
               ]
              ],
              "y": [
               [
                286214286,
                246385505.5,
                155306666.66666666,
                140000000,
                139700000,
                136397186,
                130962608,
                111721910,
                108981275,
                102272727
               ]
              ]
             },
             {
              "title": "Top 10 Directors in 1975"
             }
            ],
            "label": "1975",
            "method": "update"
           },
           {
            "args": [
             {
              "x": [
               [
                "Robert Wise",
                "William Friedkin",
                "John G. Avildsen",
                "Francis Ford Coppola",
                "George Lucas",
                "John Guillermin",
                "Arthur Hiller",
                "George Roy Hill",
                "David Lean",
                "Milos Forman"
               ]
              ],
              "y": [
               [
                286214286,
                246385505.5,
                225000000,
                155306666.66666666,
                140000000,
                139700000,
                136397186,
                130962608,
                111721910,
                108981275
               ]
              ]
             },
             {
              "title": "Top 10 Directors in 1976"
             }
            ],
            "label": "1976",
            "method": "update"
           },
           {
            "args": [
             {
              "x": [
               [
                "Robert Wise",
                "William Friedkin",
                "John G. Avildsen",
                "Francis Ford Coppola",
                "George Lucas",
                "John Guillermin",
                "Arthur Hiller",
                "George Roy Hill",
                "David Lean",
                "Milos Forman"
               ]
              ],
              "y": [
               [
                286214286,
                246385505.5,
                225000000,
                155306666.66666666,
                140000000,
                139700000,
                136397186,
                130962608,
                111721910,
                108981275
               ]
              ]
             },
             {
              "title": "Top 10 Directors in 1977"
             }
            ],
            "label": "1977",
            "method": "update"
           },
           {
            "args": [
             {
              "x": [
               [
                "Robert Wise",
                "William Friedkin",
                "John G. Avildsen",
                "Francis Ford Coppola",
                "George Lucas",
                "John Guillermin",
                "Arthur Hiller",
                "George Roy Hill",
                "David Lean",
                "Milos Forman"
               ]
              ],
              "y": [
               [
                286214286,
                246385505.5,
                225000000,
                155306666.66666666,
                140000000,
                139700000,
                136397186,
                130962608,
                111721910,
                108981275
               ]
              ]
             },
             {
              "title": "Top 10 Directors in 1978"
             }
            ],
            "label": "1978",
            "method": "update"
           },
           {
            "args": [
             {
              "x": [
               [
                "Robert Wise",
                "William Friedkin",
                "John G. Avildsen",
                "Francis Ford Coppola",
                "George Lucas",
                "John Guillermin",
                "Arthur Hiller",
                "George Roy Hill",
                "David Lean",
                "Milos Forman"
               ]
              ],
              "y": [
               [
                286214286,
                246385505.5,
                225000000,
                155306666.66666666,
                140000000,
                139700000,
                136397186,
                130962608,
                111721910,
                108981275
               ]
              ]
             },
             {
              "title": "Top 10 Directors in 1979"
             }
            ],
            "label": "1979",
            "method": "update"
           },
           {
            "args": [
             {
              "x": [
               [
                "Robert Wise",
                "William Friedkin",
                "John G. Avildsen",
                "Francis Ford Coppola",
                "George Lucas",
                "John Guillermin",
                "Arthur Hiller",
                "George Roy Hill",
                "David Lean",
                "Milos Forman"
               ]
              ],
              "y": [
               [
                286214286,
                246385505.5,
                225000000,
                155306666.66666666,
                140000000,
                139700000,
                136397186,
                130962608,
                111721910,
                108981275
               ]
              ]
             },
             {
              "title": "Top 10 Directors in 1980"
             }
            ],
            "label": "1980",
            "method": "update"
           },
           {
            "args": [
             {
              "x": [
               [
                "Robert Wise",
                "William Friedkin",
                "John G. Avildsen",
                "Francis Ford Coppola",
                "George Lucas",
                "John Guillermin",
                "Arthur Hiller",
                "George Roy Hill",
                "David Lean",
                "Milos Forman"
               ]
              ],
              "y": [
               [
                286214286,
                246385505.5,
                225000000,
                155306666.66666666,
                140000000,
                139700000,
                136397186,
                130962608,
                111721910,
                108981275
               ]
              ]
             },
             {
              "title": "Top 10 Directors in 1981"
             }
            ],
            "label": "1981",
            "method": "update"
           },
           {
            "args": [
             {
              "x": [
               [
                "Steven Spielberg",
                "Robert Wise",
                "William Friedkin",
                "John G. Avildsen",
                "Sydney Pollack",
                "Francis Ford Coppola",
                "George Lucas",
                "John Guillermin",
                "Arthur Hiller",
                "George Roy Hill"
               ]
              ],
              "y": [
               [
                792910554,
                286214286,
                246385505.5,
                225000000,
                177200000,
                155306666.66666666,
                140000000,
                139700000,
                136397186,
                130962608
               ]
              ]
             },
             {
              "title": "Top 10 Directors in 1982"
             }
            ],
            "label": "1982",
            "method": "update"
           },
           {
            "args": [
             {
              "x": [
               [
                "Steven Spielberg",
                "Robert Wise",
                "William Friedkin",
                "John G. Avildsen",
                "Sydney Pollack",
                "Francis Ford Coppola",
                "George Lucas",
                "John Guillermin",
                "Arthur Hiller",
                "George Roy Hill"
               ]
              ],
              "y": [
               [
                792910554,
                286214286,
                246385505.5,
                225000000,
                177200000,
                155306666.66666666,
                140000000,
                139700000,
                136397186,
                130962608
               ]
              ]
             },
             {
              "title": "Top 10 Directors in 1983"
             }
            ],
            "label": "1983",
            "method": "update"
           },
           {
            "args": [
             {
              "x": [
               [
                "Steven Spielberg",
                "Robert Wise",
                "William Friedkin",
                "John G. Avildsen",
                "Sydney Pollack",
                "Francis Ford Coppola",
                "George Lucas",
                "John Guillermin",
                "Arthur Hiller",
                "George Roy Hill"
               ]
              ],
              "y": [
               [
                792910554,
                286214286,
                246385505.5,
                225000000,
                177200000,
                155306666.66666666,
                140000000,
                139700000,
                136397186,
                130962608
               ]
              ]
             },
             {
              "title": "Top 10 Directors in 1984"
             }
            ],
            "label": "1984",
            "method": "update"
           },
           {
            "args": [
             {
              "x": [
               [
                "Steven Spielberg",
                "Robert Wise",
                "William Friedkin",
                "John G. Avildsen",
                "Francis Ford Coppola",
                "Sydney Pollack",
                "George Lucas",
                "John Guillermin",
                "Arthur Hiller",
                "George Roy Hill"
               ]
              ],
              "y": [
               [
                467455277,
                286214286,
                246385505.5,
                225000000,
                155306666.66666666,
                152849602.5,
                140000000,
                139700000,
                136397186,
                130962608
               ]
              ]
             },
             {
              "title": "Top 10 Directors in 1985"
             }
            ],
            "label": "1985",
            "method": "update"
           },
           {
            "args": [
             {
              "x": [
               [
                "Steven Spielberg",
                "Robert Wise",
                "William Friedkin",
                "John G. Avildsen",
                "Francis Ford Coppola",
                "Sydney Pollack",
                "George Lucas",
                "John Guillermin",
                "Oliver Stone",
                "Arthur Hiller"
               ]
              ],
              "y": [
               [
                467455277,
                286214286,
                246385505.5,
                225000000,
                155306666.66666666,
                152849602.5,
                140000000,
                139700000,
                138530565,
                136397186
               ]
              ]
             },
             {
              "title": "Top 10 Directors in 1986"
             }
            ],
            "label": "1986",
            "method": "update"
           },
           {
            "args": [
             {
              "x": [
               [
                "Steven Spielberg",
                "Adrian Lyne",
                "Robert Wise",
                "William Friedkin",
                "John G. Avildsen",
                "Francis Ford Coppola",
                "Sydney Pollack",
                "George Lucas",
                "John Guillermin",
                "Oliver Stone"
               ]
              ],
              "y": [
               [
                467455277,
                320145693,
                286214286,
                246385505.5,
                225000000,
                155306666.66666666,
                152849602.5,
                140000000,
                139700000,
                138530565
               ]
              ]
             },
             {
              "title": "Top 10 Directors in 1987"
             }
            ],
            "label": "1987",
            "method": "update"
           },
           {
            "args": [
             {
              "x": [
               [
                "Steven Spielberg",
                "Barry Levinson",
                "Adrian Lyne",
                "Robert Wise",
                "William Friedkin",
                "John G. Avildsen",
                "Francis Ford Coppola",
                "Sydney Pollack",
                "George Lucas",
                "John Guillermin"
               ]
              ],
              "y": [
               [
                467455277,
                354825435,
                320145693,
                286214286,
                246385505.5,
                225000000,
                155306666.66666666,
                152849602.5,
                140000000,
                139700000
               ]
              ]
             },
             {
              "title": "Top 10 Directors in 1988"
             }
            ],
            "label": "1988",
            "method": "update"
           },
           {
            "args": [
             {
              "x": [
               [
                "Steven Spielberg",
                "Barry Levinson",
                "Adrian Lyne",
                "Robert Wise",
                "William Friedkin",
                "John G. Avildsen",
                "Oliver Stone",
                "Francis Ford Coppola",
                "Sydney Pollack",
                "Peter Weir"
               ]
              ],
              "y": [
               [
                467455277,
                354825435,
                320145693,
                286214286,
                246385505.5,
                225000000,
                185436783.5,
                155306666.66666666,
                152849602.5,
                152283554.5
               ]
              ]
             },
             {
              "title": "Top 10 Directors in 1989"
             }
            ],
            "label": "1989",
            "method": "update"
           },
           {
            "args": [
             {
              "x": [
               [
                "Jerry Zucker",
                "Steven Spielberg",
                "Barry Levinson",
                "Adrian Lyne",
                "Robert Wise",
                "William Friedkin",
                "John G. Avildsen",
                "Oliver Stone",
                "Francis Ford Coppola",
                "Sydney Pollack"
               ]
              ],
              "y": [
               [
                505702588,
                467455277,
                354825435,
                320145693,
                286214286,
                246385505.5,
                225000000,
                185436783.5,
                155306666.66666666,
                152849602.5
               ]
              ]
             },
             {
              "title": "Top 10 Directors in 1990"
             }
            ],
            "label": "1990",
            "method": "update"
           },
           {
            "args": [
             {
              "x": [
               [
                "Jerry Zucker",
                "Steven Spielberg",
                "Gary Trousdale",
                "Barry Levinson",
                "Adrian Lyne",
                "Robert Wise",
                "Jonathan Demme",
                "William Friedkin",
                "John G. Avildsen",
                "Oliver Stone"
               ]
              ],
              "y": [
               [
                505702588,
                467455277,
                424967620,
                354825435,
                320145693,
                286214286,
                272742922,
                246385505.5,
                225000000,
                185436783.5
               ]
              ]
             },
             {
              "title": "Top 10 Directors in 1991"
             }
            ],
            "label": "1991",
            "method": "update"
           },
           {
            "args": [
             {
              "x": [
               [
                "Jerry Zucker",
                "Steven Spielberg",
                "Gary Trousdale",
                "Barry Levinson",
                "Adrian Lyne",
                "Robert Wise",
                "Jonathan Demme",
                "William Friedkin",
                "Rob Reiner",
                "John G. Avildsen"
               ]
              ],
              "y": [
               [
                505702588,
                467455277,
                424967620,
                354825435,
                320145693,
                286214286,
                272742922,
                246385505.5,
                243240178,
                225000000
               ]
              ]
             },
             {
              "title": "Top 10 Directors in 1992"
             }
            ],
            "label": "1992",
            "method": "update"
           },
           {
            "args": [
             {
              "x": [
               [
                "Jerry Zucker",
                "Steven Spielberg",
                "Gary Trousdale",
                "Andrew Davis",
                "Barry Levinson",
                "Adrian Lyne",
                "Robert Wise",
                "Jonathan Demme",
                "William Friedkin",
                "Rob Reiner"
               ]
              ],
              "y": [
               [
                505702588,
                467455277,
                424967620,
                368875760,
                354825435,
                320145693,
                286214286,
                272742922,
                246385505.5,
                243240178
               ]
              ]
             },
             {
              "title": "Top 10 Directors in 1993"
             }
            ],
            "label": "1993",
            "method": "update"
           },
           {
            "args": [
             {
              "x": [
               [
                "Jerry Zucker",
                "Steven Spielberg",
                "Gary Trousdale",
                "Andrew Davis",
                "Barry Levinson",
                "Adrian Lyne",
                "Robert Wise",
                "Jonathan Demme",
                "William Friedkin",
                "Mike Newell"
               ]
              ],
              "y": [
               [
                505702588,
                467455277,
                424967620,
                368875760,
                354825435,
                320145693,
                286214286,
                272742922,
                246385505.5,
                245700832
               ]
              ]
             },
             {
              "title": "Top 10 Directors in 1994"
             }
            ],
            "label": "1994",
            "method": "update"
           },
           {
            "args": [
             {
              "x": [
               [
                "Jerry Zucker",
                "Steven Spielberg",
                "Gary Trousdale",
                "Andrew Davis",
                "Ron Howard",
                "Barry Levinson",
                "Adrian Lyne",
                "Robert Wise",
                "Jonathan Demme",
                "Chris Noonan"
               ]
              ],
              "y": [
               [
                505702588,
                467455277,
                424967620,
                368875760,
                355237933,
                354825435,
                320145693,
                286214286,
                272742922,
                254134910
               ]
              ]
             },
             {
              "title": "Top 10 Directors in 1995"
             }
            ],
            "label": "1995",
            "method": "update"
           },
           {
            "args": [
             {
              "x": [
               [
                "Jerry Zucker",
                "Steven Spielberg",
                "Gary Trousdale",
                "Andrew Davis",
                "Ron Howard",
                "Barry Levinson",
                "Adrian Lyne",
                "Robert Wise",
                "Cameron Crowe",
                "Jonathan Demme"
               ]
              ],
              "y": [
               [
                505702588,
                467455277,
                424967620,
                368875760,
                355237933,
                354825435,
                320145693,
                286214286,
                273552592,
                272742922
               ]
              ]
             },
             {
              "title": "Top 10 Directors in 1996"
             }
            ],
            "label": "1996",
            "method": "update"
           },
           {
            "args": [
             {
              "x": [
               [
                "James Cameron",
                "Jerry Zucker",
                "Steven Spielberg",
                "Gary Trousdale",
                "Andrew Davis",
                "Ron Howard",
                "Barry Levinson",
                "Adrian Lyne",
                "Robert Wise",
                "Cameron Crowe"
               ]
              ],
              "y": [
               [
                2185372302,
                505702588,
                467455277,
                424967620,
                368875760,
                355237933,
                354825435,
                320145693,
                286214286,
                273552592
               ]
              ]
             },
             {
              "title": "Top 10 Directors in 1997"
             }
            ],
            "label": "1997",
            "method": "update"
           },
           {
            "args": [
             {
              "x": [
               [
                "James Cameron",
                "Jerry Zucker",
                "Steven Spielberg",
                "Gary Trousdale",
                "Andrew Davis",
                "Ron Howard",
                "Barry Levinson",
                "Adrian Lyne",
                "Robert Wise",
                "Cameron Crowe"
               ]
              ],
              "y": [
               [
                2185372302,
                505702588,
                472250487.6666667,
                424967620,
                368875760,
                355237933,
                354825435,
                320145693,
                286214286,
                273552592
               ]
              ]
             },
             {
              "title": "Top 10 Directors in 1998"
             }
            ],
            "label": "1998",
            "method": "update"
           },
           {
            "args": [
             {
              "x": [
               [
                "James Cameron",
                "M. Night Shyamalan",
                "Jerry Zucker",
                "Steven Spielberg",
                "Gary Trousdale",
                "Andrew Davis",
                "Ron Howard",
                "Barry Levinson",
                "Adrian Lyne",
                "Robert Wise"
               ]
              ],
              "y": [
               [
                2185372302,
                672806292,
                505702588,
                472250487.6666667,
                424967620,
                368875760,
                355237933,
                354825435,
                320145693,
                286214286
               ]
              ]
             },
             {
              "title": "Top 10 Directors in 1999"
             }
            ],
            "label": "1999",
            "method": "update"
           },
           {
            "args": [
             {
              "x": [
               [
                "James Cameron",
                "M. Night Shyamalan",
                "Jerry Zucker",
                "Steven Spielberg",
                "Ridley Scott",
                "Gary Trousdale",
                "Andrew Davis",
                "Ron Howard",
                "Barry Levinson",
                "Adrian Lyne"
               ]
              ],
              "y": [
               [
                2185372302,
                672806292,
                505702588,
                472250487.6666667,
                457640427,
                424967620,
                368875760,
                355237933,
                354825435,
                320145693
               ]
              ]
             },
             {
              "title": "Top 10 Directors in 2000"
             }
            ],
            "label": "2000",
            "method": "update"
           },
           {
            "args": [
             {
              "x": [
               [
                "James Cameron",
                "Peter Jackson",
                "M. Night Shyamalan",
                "Jerry Zucker",
                "Steven Spielberg",
                "Ridley Scott",
                "Gary Trousdale",
                "Andrew Davis",
                "Barry Levinson",
                "Ron Howard"
               ]
              ],
              "y": [
               [
                2185372302,
                871530324,
                672806292,
                505702588,
                472250487.6666667,
                457640427,
                424967620,
                368875760,
                354825435,
                334390137
               ]
              ]
             },
             {
              "title": "Top 10 Directors in 2001"
             }
            ],
            "label": "2001",
            "method": "update"
           },
           {
            "args": [
             {
              "x": [
               [
                "James Cameron",
                "Peter Jackson",
                "M. Night Shyamalan",
                "Jerry Zucker",
                "Steven Spielberg",
                "Ridley Scott",
                "Gary Trousdale",
                "Andrew Davis",
                "Barry Levinson",
                "Ron Howard"
               ]
              ],
              "y": [
               [
                2185372302,
                898788717.5,
                672806292,
                505702588,
                472250487.6666667,
                457640427,
                424967620,
                368875760,
                354825435,
                334390137
               ]
              ]
             },
             {
              "title": "Top 10 Directors in 2002"
             }
            ],
            "label": "2002",
            "method": "update"
           },
           {
            "args": [
             {
              "x": [
               [
                "James Cameron",
                "Peter Jackson",
                "M. Night Shyamalan",
                "Jerry Zucker",
                "Steven Spielberg",
                "Ridley Scott",
                "Gary Trousdale",
                "Andrew Davis",
                "Barry Levinson",
                "Ron Howard"
               ]
              ],
              "y": [
               [
                2185372302,
                898788717.5,
                672806292,
                505702588,
                472250487.6666667,
                457640427,
                424967620,
                368875760,
                354825435,
                334390137
               ]
              ]
             },
             {
              "title": "Top 10 Directors in 2003"
             }
            ],
            "label": "2003",
            "method": "update"
           },
           {
            "args": [
             {
              "x": [
               [
                "James Cameron",
                "Peter Jackson",
                "M. Night Shyamalan",
                "Jerry Zucker",
                "Steven Spielberg",
                "Ridley Scott",
                "Gary Trousdale",
                "Andrew Davis",
                "Barry Levinson",
                "Ron Howard"
               ]
              ],
              "y": [
               [
                2185372302,
                898788717.5,
                672806292,
                505702588,
                472250487.6666667,
                457640427,
                424967620,
                368875760,
                354825435,
                334390137
               ]
              ]
             },
             {
              "title": "Top 10 Directors in 2004"
             }
            ],
            "label": "2004",
            "method": "update"
           },
           {
            "args": [
             {
              "x": [
               [
                "James Cameron",
                "Peter Jackson",
                "M. Night Shyamalan",
                "Jerry Zucker",
                "Ridley Scott",
                "Gary Trousdale",
                "Steven Spielberg",
                "Andrew Davis",
                "Barry Levinson",
                "Ron Howard"
               ]
              ],
              "y": [
               [
                2185372302,
                898788717.5,
                672806292,
                505702588,
                457640427,
                424967620,
                386777593.5,
                368875760,
                354825435,
                334390137
               ]
              ]
             },
             {
              "title": "Top 10 Directors in 2005"
             }
            ],
            "label": "2005",
            "method": "update"
           },
           {
            "args": [
             {
              "x": [
               [
                "James Cameron",
                "Peter Jackson",
                "M. Night Shyamalan",
                "Jerry Zucker",
                "Ridley Scott",
                "Gary Trousdale",
                "Steven Spielberg",
                "Andrew Davis",
                "Barry Levinson",
                "Ron Howard"
               ]
              ],
              "y": [
               [
                2185372302,
                898788717.5,
                672806292,
                505702588,
                457640427,
                424967620,
                386777593.5,
                368875760,
                354825435,
                334390137
               ]
              ]
             },
             {
              "title": "Top 10 Directors in 2006"
             }
            ],
            "label": "2006",
            "method": "update"
           },
           {
            "args": [
             {
              "x": [
               [
                "James Cameron",
                "Peter Jackson",
                "M. Night Shyamalan",
                "Jerry Zucker",
                "Ridley Scott",
                "Gary Trousdale",
                "Steven Spielberg",
                "Andrew Davis",
                "Barry Levinson",
                "Ron Howard"
               ]
              ],
              "y": [
               [
                2185372302,
                898788717.5,
                672806292,
                505702588,
                457640427,
                424967620,
                386777593.5,
                368875760,
                354825435,
                334390137
               ]
              ]
             },
             {
              "title": "Top 10 Directors in 2007"
             }
            ],
            "label": "2007",
            "method": "update"
           },
           {
            "args": [
             {
              "x": [
               [
                "James Cameron",
                "Peter Jackson",
                "M. Night Shyamalan",
                "Jerry Zucker",
                "Ridley Scott",
                "Gary Trousdale",
                "Steven Spielberg",
                "Danny Boyle",
                "Andrew Davis",
                "Barry Levinson"
               ]
              ],
              "y": [
               [
                2185372302,
                898788717.5,
                672806292,
                505702588,
                457640427,
                424967620,
                386777593.5,
                377910544,
                368875760,
                354825435
               ]
              ]
             },
             {
              "title": "Top 10 Directors in 2008"
             }
            ],
            "label": "2008",
            "method": "update"
           },
           {
            "args": [
             {
              "x": [
               [
                "James Cameron",
                "Peter Jackson",
                "Pete Docter",
                "M. Night Shyamalan",
                "Jerry Zucker",
                "Ridley Scott",
                "Gary Trousdale",
                "Steven Spielberg",
                "Danny Boyle",
                "Andrew Davis"
               ]
              ],
              "y": [
               [
                2185372302,
                898788717.5,
                731342744,
                672806292,
                505702588,
                457640427,
                424967620,
                386777593.5,
                377910544,
                368875760
               ]
              ]
             },
             {
              "title": "Top 10 Directors in 2009"
             }
            ],
            "label": "2009",
            "method": "update"
           },
           {
            "args": [
             {
              "x": [
               [
                "James Cameron",
                "Lee Unkrich",
                "Peter Jackson",
                "Christopher Nolan",
                "Pete Docter",
                "M. Night Shyamalan",
                "Jerry Zucker",
                "Ridley Scott",
                "Gary Trousdale",
                "Steven Spielberg"
               ]
              ],
              "y": [
               [
                2185372302,
                1063171911,
                898788717.5,
                825532764,
                731342744,
                672806292,
                505702588,
                457640427,
                424967620,
                386777593.5
               ]
              ]
             },
             {
              "title": "Top 10 Directors in 2010"
             }
            ],
            "label": "2010",
            "method": "update"
           },
           {
            "args": [
             {
              "x": [
               [
                "James Cameron",
                "Lee Unkrich",
                "Peter Jackson",
                "Christopher Nolan",
                "Pete Docter",
                "M. Night Shyamalan",
                "Jerry Zucker",
                "Ridley Scott",
                "Gary Trousdale",
                "Andrew Davis"
               ]
              ],
              "y": [
               [
                2185372302,
                1063171911,
                898788717.5,
                825532764,
                731342744,
                672806292,
                505702588,
                457640427,
                424967620,
                368875760
               ]
              ]
             },
             {
              "title": "Top 10 Directors in 2011"
             }
            ],
            "label": "2011",
            "method": "update"
           },
           {
            "args": [
             {
              "x": [
               [
                "James Cameron",
                "Lee Unkrich",
                "Peter Jackson",
                "Christopher Nolan",
                "Pete Docter",
                "M. Night Shyamalan",
                "Jerry Zucker",
                "Ridley Scott",
                "Gary Trousdale",
                "Andrew Davis"
               ]
              ],
              "y": [
               [
                2185372302,
                1063171911,
                898788717.5,
                825532764,
                731342744,
                672806292,
                505702588,
                457640427,
                424967620,
                368875760
               ]
              ]
             },
             {
              "title": "Top 10 Directors in 2012"
             }
            ],
            "label": "2012",
            "method": "update"
           }
          ],
          "direction": "down",
          "showactive": true
         }
        ],
        "xaxis": {
         "title": {
          "text": "Directors"
         }
        },
        "yaxis": {
         "title": {
          "text": "High profile score"
         }
        }
       }
      }
     },
     "metadata": {},
     "output_type": "display_data"
    }
   ],
   "source": [
    "\n",
    "q3.plot_top_directors_interactive(director_revenue_year, 10)"
   ]
  },
  {
   "cell_type": "code",
   "execution_count": null,
   "metadata": {},
   "outputs": [
    {
     "data": {
      "image/png": "[encoded data removed]",
      "text/plain": [
       "<Figure size 640x480 with 1 Axes>"
      ]
     },
     "metadata": {},
     "output_type": "display_data"
    }
   ],
   "source": [
    "\n",
    "q3.count_won_oscar(df_Q3, 10)"
   ]
  },
  {
   "cell_type": "code",
   "execution_count": null,
   "metadata": {},
   "outputs": [
    {
     "data": {
      "image/png": "[encoded data removed]",
      "text/plain": [
       "<Figure size 640x480 with 1 Axes>"
      ]
     },
     "metadata": {},
     "output_type": "display_data"
    }
   ],
   "source": [
    "winner_position_profile, winner_position_rating = q3.plot_winner_position(df_Q3)"
   ]
  },
  {
   "cell_type": "markdown",
   "metadata": {},
   "source": [
    "If each year, we sort the nominees by average ratings and by 'high profile score' in descending order, we see that the distributions are quite similar and heavy-tailed: oscar winning-movies are thus well rated and directed by a popular director.\n",
    "\n",
    "To reinforce our intuition, we can perform a statistical test to decide whether there is a significant difference between these 2 distributions at $\\alpha = 5\\%$:\n",
    "\n",
    "$$\n",
    "H_0: \\mathcal{D}_{\\text{ratings}} = \\mathcal{D}_{\\text{profiles}}\n",
    "$$\n",
    "\n",
    "$$\n",
    "H_1: \\mathcal{D}_{\\text{ratings}} \\ne \\mathcal{D}_{\\text{profiles}}\n",
    "$$\n"
   ]
  },
  {
   "cell_type": "code",
   "execution_count": null,
   "metadata": {},
   "outputs": [
    {
     "name": "stdout",
     "output_type": "stream",
     "text": [
      "p value = 0.28297678122945064\n",
      "fail to reject the null hypothesis (no significant difference)\n"
     ]
    }
   ],
   "source": [
    "q3.compare_distribution(winner_position_profile, winner_position_rating)"
   ]
  },
  {
   "cell_type": "markdown",
   "metadata": {},
   "source": [
    "This is a first proof that these metrics are correlated!\n",
    "\n",
    "To get deeper insights, let's see if we can predict wether an movie won an oscar based on the profile score of its director and the average rating the movie got. To perform this binary classification task, we will use a logistic regression."
   ]
  },
  {
   "cell_type": "code",
   "execution_count": null,
   "metadata": {},
   "outputs": [
    {
     "name": "stdout",
     "output_type": "stream",
     "text": [
      "Profile score coefficient: -3.509660819919821e-09, average rating coefficient: -2.054557822926647e-15\n"
     ]
    },
    {
     "data": {
      "image/png": "[encoded data removed]",
      "text/plain": [
       "<Figure size 1000x600 with 1 Axes>"
      ]
     },
     "metadata": {},
     "output_type": "display_data"
    }
   ],
   "source": [
    "\n",
    "q3.logreg_ratings(df_Q3)\n"
   ]
  },
  {
   "cell_type": "markdown",
   "metadata": {},
   "source": [
    "As we can see on both the weights of the logistic regression (the model gives way more importance to the profile score weight) and the decision boundary (a vertical line), the model only needs a single feature to make its predictions.\n",
    "\n",
    "With what we discovered just above, this also proves that these metrics are correlated: the second feature does not provide any other meaningful information to make decisions. \n",
    "\n",
    "Without the first discovery, one could have argued that this low weight on the average rating would imply that there is no correlation between winning an oscar and the average rating of a movie, but this is obviously not the case.\n",
    "\n",
    "In conclusion, there is no preference towards high profile directors during the Oscar awards, which could have been expected regarding how the juddging works. These directors simply make great movies."
   ]
  }
 ],
 "metadata": {
  "kernelspec": {
   "display_name": "Python 3",
   "language": "python",
   "name": "python3"
  },
  "language_info": {
   "codemirror_mode": {
    "name": "ipython",
    "version": 3
   },
   "file_extension": ".py",
   "mimetype": "text/x-python",
   "name": "python",
   "nbconvert_exporter": "python",
   "pygments_lexer": "ipython3",
   "version": "3.10.11"
  }
 },
 "nbformat": 4,
 "nbformat_minor": 2
}
